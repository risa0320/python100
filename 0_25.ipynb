{
  "nbformat": 4,
  "nbformat_minor": 0,
  "metadata": {
    "colab": {
      "name": "0_25.ipynb",
      "version": "0.3.2",
      "provenance": [],
      "collapsed_sections": [],
      "toc_visible": true
    },
    "kernelspec": {
      "name": "python3",
      "display_name": "Python 3"
    }
  },
  "cells": [
    {
      "cell_type": "markdown",
      "metadata": {
        "id": "52jhwV8HRLmO",
        "colab_type": "text"
      },
      "source": [
        "# 第1章\n",
        "## 00. 文字列の逆順\n",
        "文字列\"stressed\"の文字を逆に（末尾から先頭に向かって）並べた文字列を得よ"
      ]
    },
    {
      "cell_type": "code",
      "metadata": {
        "id": "aXhlbI60Q0As",
        "colab_type": "code",
        "outputId": "72f8baf6-8c61-4216-cb6f-31c243c0c821",
        "colab": {
          "base_uri": "https://localhost:8080/",
          "height": 34
        }
      },
      "source": [
        "word = \"stressed\"\n",
        "word[::-1]"
      ],
      "execution_count": 0,
      "outputs": [
        {
          "output_type": "execute_result",
          "data": {
            "text/plain": [
              "'desserts'"
            ]
          },
          "metadata": {
            "tags": []
          },
          "execution_count": 4
        }
      ]
    },
    {
      "cell_type": "markdown",
      "metadata": {
        "id": "911oYpL5Rrgk",
        "colab_type": "text"
      },
      "source": [
        "## 01. 「パタトクカシーー」\n",
        "「パタトクカシーー」という文字列の1,3,5,7文字目を取り出して連結した文字列を得よ"
      ]
    },
    {
      "cell_type": "code",
      "metadata": {
        "id": "x4eJP_g8Rydg",
        "colab_type": "code",
        "outputId": "a31ee935-2750-4fc7-bb6f-f8118aa73bfb",
        "colab": {
          "base_uri": "https://localhost:8080/",
          "height": 34
        }
      },
      "source": [
        "word_1 = \"パタトクカシーー\"\n",
        "word_1[0::2]"
      ],
      "execution_count": 0,
      "outputs": [
        {
          "output_type": "execute_result",
          "data": {
            "text/plain": [
              "'パトカー'"
            ]
          },
          "metadata": {
            "tags": []
          },
          "execution_count": 6
        }
      ]
    },
    {
      "cell_type": "markdown",
      "metadata": {
        "id": "rkuKUo1OSaCN",
        "colab_type": "text"
      },
      "source": [
        "## 02. 「パトカー」＋「タクシー」＝「パタトクカシーー」\n",
        "「パトカー」＋「タクシー」の文字を先頭から交互に連結して文字列「パタトクカシーー」を得よ．"
      ]
    },
    {
      "cell_type": "code",
      "metadata": {
        "id": "gNz0fQ8vRrCN",
        "colab_type": "code",
        "outputId": "ce5661ab-1ec7-4d91-be4e-a5bc94ceb3ee",
        "colab": {
          "base_uri": "https://localhost:8080/",
          "height": 34
        }
      },
      "source": [
        "pato = \"パトカー\"\n",
        "taxi = \"タクシー\"\n",
        "merge_word = \"\"\n",
        "\n",
        "for w_1, w_2 in zip(pato,taxi):\n",
        "    merge_word += w_1 + w_2\n",
        "merge_word\n"
      ],
      "execution_count": 0,
      "outputs": [
        {
          "output_type": "execute_result",
          "data": {
            "text/plain": [
              "'パタトクカシーー'"
            ]
          },
          "metadata": {
            "tags": []
          },
          "execution_count": 19
        }
      ]
    },
    {
      "cell_type": "markdown",
      "metadata": {
        "id": "u_1nr778VXIY",
        "colab_type": "text"
      },
      "source": [
        "## 03. 円周率\n",
        "\"Now I need a drink, alcoholic of course, after the heavy lectures involving quantum mechanics.\"という文を単語に分解し，各単語の（アルファベットの）文字数を先頭から出現順に並べたリストを作成せよ．"
      ]
    },
    {
      "cell_type": "code",
      "metadata": {
        "id": "YtLPLZWfVWy_",
        "colab_type": "code",
        "outputId": "1cb28f58-ef7a-43f8-f3a9-14990dcd6d88",
        "colab": {
          "base_uri": "https://localhost:8080/",
          "height": 34
        }
      },
      "source": [
        "sentence = \"Now I need a drink, alcoholic of course, after the heavy lectures involving quantum mechanics.\"\n",
        "words = [len(x)  for x in sentence.split(\" \")]\n",
        "words"
      ],
      "execution_count": 0,
      "outputs": [
        {
          "output_type": "execute_result",
          "data": {
            "text/plain": [
              "[3, 1, 4, 1, 6, 9, 2, 7, 5, 3, 5, 8, 9, 7, 10]"
            ]
          },
          "metadata": {
            "tags": []
          },
          "execution_count": 23
        }
      ]
    },
    {
      "cell_type": "markdown",
      "metadata": {
        "id": "sNi0Ce0EWWNi",
        "colab_type": "text"
      },
      "source": [
        "## 04. 元素記号\n",
        "\"Hi He Lied Because Boron Could Not Oxidize Fluorine. New Nations Might Also Sign Peace Security Clause. Arthur King Can.\"という文を単語に分解し，1, 5, 6, 7, 8, 9, 15, 16, 19番目の単語は先頭の1文字，それ以外の単語は先頭に2文字を取り出し，取り出した文字列から単語の位置（先頭から何番目の単語か）への連想配列（辞書型もしくはマップ型）を作成せよ．"
      ]
    },
    {
      "cell_type": "code",
      "metadata": {
        "id": "Ptqq_8hVWVv1",
        "colab_type": "code",
        "outputId": "75b1839e-d990-426f-885a-b900b9f9ec6b",
        "colab": {
          "base_uri": "https://localhost:8080/",
          "height": 357
        }
      },
      "source": [
        "contents = \"Hi He Lied Because Boron Could Not Oxidize Fluorine. New Nations Might Also Sign Peace Security Clause. Arthur King Can.\"\n",
        "genso_list = contents.split(\" \")\n",
        "split_head = [1, 5, 6, 7, 8, 9, 15, 16, 19]\n",
        "\n",
        "genso_map = dict()\n",
        "for ind, genso in enumerate(genso_list):\n",
        "    if ind + 1 in split_head:\n",
        "        sgn = genso[0]\n",
        "    else:\n",
        "        sgn = genso[0:2]\n",
        "    genso_map[sgn] = ind + 1\n",
        "\n",
        "genso_map"
      ],
      "execution_count": 0,
      "outputs": [
        {
          "output_type": "execute_result",
          "data": {
            "text/plain": [
              "{'Al': 13,\n",
              " 'Ar': 18,\n",
              " 'B': 5,\n",
              " 'Be': 4,\n",
              " 'C': 6,\n",
              " 'Ca': 20,\n",
              " 'Cl': 17,\n",
              " 'F': 9,\n",
              " 'H': 1,\n",
              " 'He': 2,\n",
              " 'K': 19,\n",
              " 'Li': 3,\n",
              " 'Mi': 12,\n",
              " 'N': 7,\n",
              " 'Na': 11,\n",
              " 'Ne': 10,\n",
              " 'O': 8,\n",
              " 'P': 15,\n",
              " 'S': 16,\n",
              " 'Si': 14}"
            ]
          },
          "metadata": {
            "tags": []
          },
          "execution_count": 32
        }
      ]
    },
    {
      "cell_type": "markdown",
      "metadata": {
        "id": "i_cSmj02Yhkq",
        "colab_type": "text"
      },
      "source": [
        "## 05. n-gram\n",
        "与えられたシーケンス（文字列やリストなど）からn-gramを作る関数を作成せよ．この関数を用い，\"I am an NLPer\"という文から単語bi-gram，文字bi-gramを得よ．"
      ]
    },
    {
      "cell_type": "code",
      "metadata": {
        "id": "YGNgmkgzXOeu",
        "colab_type": "code",
        "outputId": "c11214fa-9a01-445f-fe40-59deb31dc14c",
        "colab": {
          "base_uri": "https://localhost:8080/",
          "height": 51
        }
      },
      "source": [
        "def generate_ngram(sentense, mode):\n",
        "    if mode == \"word\":\n",
        "        return word_bi_gram(sentense)\n",
        "    elif mode == \"char\":\n",
        "        return char_bi_gram(sentense)\n",
        "    else:\n",
        "        raise ValueError(\"Plase choice word mode or char mode .\")\n",
        "\n",
        "def word_bi_gram(sentense):\n",
        "    word_list = sentense.split(\" \")\n",
        "    bi_gram = list()\n",
        "    total_cnt = len(word_list)\n",
        "    for ind, word in enumerate(word_list):\n",
        "        if ind + 1 == total_cnt:\n",
        "            w = word\n",
        "        else:\n",
        "            w = word + \" \" + word_list[ind + 1]\n",
        "        bi_gram.append(w)\n",
        "    return bi_gram\n",
        "            \n",
        "def char_bi_gram(sentense):\n",
        "    words = sentense.replace(\" \", \"\")\n",
        "    bi_gram = list()\n",
        "    total_cnt = len(words)\n",
        "    for ind, word in enumerate(list(words)):\n",
        "        if ind + 1 == total_cnt:\n",
        "            w = word\n",
        "        else:\n",
        "            w = word + words[ind + 1]\n",
        "        bi_gram.append(w)\n",
        "    return bi_gram\n",
        "          \n",
        "snt = \"I am an NLPer\"\n",
        "print(generate_ngram(snt, mode=\"word\"))\n",
        "print(generate_ngram(snt, mode=\"char\"))"
      ],
      "execution_count": 0,
      "outputs": [
        {
          "output_type": "stream",
          "text": [
            "['I am', 'am an', 'an NLPer', 'NLPer']\n",
            "['Ia', 'am', 'ma', 'an', 'nN', 'NL', 'LP', 'Pe', 'er', 'r']\n"
          ],
          "name": "stdout"
        }
      ]
    },
    {
      "cell_type": "markdown",
      "metadata": {
        "id": "lwiVVCFdeFpj",
        "colab_type": "text"
      },
      "source": [
        "## 06. 集合\n",
        "\"paraparaparadise\"と\"paragraph\"に含まれる文字bi-gramの集合を，それぞれ, XとYとして求め，XとYの和集合，積集合，差集合を求めよ．さらに，'se'というbi-gramがXおよびYに含まれるかどうかを調べよ．"
      ]
    },
    {
      "cell_type": "code",
      "metadata": {
        "id": "nx-bcGnBeHCb",
        "colab_type": "code",
        "outputId": "93c5a28a-2182-47fc-d483-283bd786db29",
        "colab": {
          "base_uri": "https://localhost:8080/",
          "height": 102
        }
      },
      "source": [
        "word_6_1 = \"paraparaparadise\"\n",
        "word_6_2 = \"paragraph\"\n",
        "target = {\"se\"}\n",
        "\n",
        "X = generate_ngram(word_6_1, mode=\"char\")\n",
        "Y = generate_ngram(word_6_2, mode=\"char\")\n",
        "\n",
        "xy_sum = set(X) | set(Y)\n",
        "xy_inter = set(X) & set(Y)\n",
        "xy_diff = set(X) ^ set(Y)\n",
        "print('XとYの和集合は ', xy_sum)\n",
        "print('XとYの積集合は ', xy_inter)\n",
        "print('XとYの差集合は ', xy_diff)\n",
        "print(target, ' => X: ', target <= set(X))\n",
        "print(target, ' => Y: ', target <= set(Y))\n"
      ],
      "execution_count": 0,
      "outputs": [
        {
          "output_type": "stream",
          "text": [
            "XとYの和集合は  {'se', 'ra', 'di', 'h', 'pa', 'ph', 'ag', 'gr', 'ap', 'e', 'is', 'ad', 'ar'}\n",
            "XとYの積集合は  {'pa', 'ra', 'ap', 'ar'}\n",
            "XとYの差集合は  {'se', 'di', 'h', 'ph', 'gr', 'e', 'is', 'ad', 'ag'}\n",
            "{'se'}  => X:  True\n",
            "{'se'}  => Y:  False\n"
          ],
          "name": "stdout"
        }
      ]
    },
    {
      "cell_type": "markdown",
      "metadata": {
        "id": "nkhiFdTIeGhQ",
        "colab_type": "text"
      },
      "source": [
        "## 07. テンプレートによる文生成\n",
        "引数x, y, zを受け取り「x時のyはz」という文字列を返す関数を実装せよ．さらに，x=12, y=\"気温\", z=22.4として，実行結果を確認せよ．"
      ]
    },
    {
      "cell_type": "code",
      "metadata": {
        "id": "xHLGvoY7eHj-",
        "colab_type": "code",
        "outputId": "71b31fbf-49f6-407a-be6e-bbb1d32d2bf6",
        "colab": {
          "base_uri": "https://localhost:8080/",
          "height": 34
        }
      },
      "source": [
        "def generate_template(x, y, z):\n",
        "    return '{0}時の{1}は{2}'.format(x, y, z)\n",
        "  \n",
        "generate_template(12, \"気温\", 22.4)"
      ],
      "execution_count": 0,
      "outputs": [
        {
          "output_type": "stream",
          "text": [
            "12時の気温は22.4\n"
          ],
          "name": "stdout"
        }
      ]
    },
    {
      "cell_type": "markdown",
      "metadata": {
        "id": "FUcYgPnMa01N",
        "colab_type": "text"
      },
      "source": [
        "## 08. 暗号文\n",
        "与えられた文字列の各文字を，以下の仕様で変換する関数cipherを実装せよ．\n",
        "\n",
        "* 英小文字ならば(219 - 文字コード)の文字に置換\n",
        "* その他の文字はそのまま出力\n",
        "\n",
        "この関数を用い，英語のメッセージを暗号化・復号化せよ．"
      ]
    },
    {
      "cell_type": "code",
      "metadata": {
        "id": "JWNwN6TMa0jw",
        "colab_type": "code",
        "outputId": "739b930c-43a0-4855-e21f-321491f9eb77",
        "colab": {
          "base_uri": "https://localhost:8080/",
          "height": 34
        }
      },
      "source": [
        "def cipher(word):\n",
        "    replaced_word = list()\n",
        "    for ind in range(len(word)):\n",
        "        if word[ind].islower():\n",
        "            replaced_word.append(chr(219 - ord(word[ind])))\n",
        "        else:\n",
        "            replaced_word.append(word[ind])\n",
        "    return \"\".join(replaced_word)\n",
        "\n",
        "cipher(\"12werT\")"
      ],
      "execution_count": 0,
      "outputs": [
        {
          "output_type": "stream",
          "text": [
            "12dviT\n"
          ],
          "name": "stdout"
        }
      ]
    },
    {
      "cell_type": "markdown",
      "metadata": {
        "id": "ifiBs4P_dQvC",
        "colab_type": "text"
      },
      "source": [
        "## 09. Typoglycemia\n",
        "スペースで区切られた単語列に対して，各単語の先頭と末尾の文字は残し，それ以外の文字の順序をランダムに並び替えるプログラムを作成せよ．ただし，長さが４以下の単語は並び替えないこととする．適当な英語の文（例えば\"I couldn't believe that I could actually understand what I was reading : the phenomenal power of the human mind .\"）を与え，その実行結果を確認せよ．"
      ]
    },
    {
      "cell_type": "code",
      "metadata": {
        "id": "MHw3CZbWdNuM",
        "colab_type": "code",
        "outputId": "ddfffa76-340c-442e-ef6f-c48e8ad6b9df",
        "colab": {
          "base_uri": "https://localhost:8080/",
          "height": 54
        }
      },
      "source": [
        "import random\n",
        "\n",
        "def random_sentense(sentense):\n",
        "    words = sentense.split(\" \")\n",
        "    if len(words) <= 4:\n",
        "        return \" \".join(words)\n",
        "    first_word = words.pop(0)\n",
        "    last_word = words.pop(-1)\n",
        "    random.shuffle(words)\n",
        "    words.insert(0, first_word)\n",
        "    words.append(last_word)\n",
        "    return \" \".join(words)\n",
        "\n",
        "sentense_9 = \"I couldn't believe that I could actually understand what I was reading : the phenomenal power of the human mind .\"\n",
        "random_sentense(sentense_9)\n"
      ],
      "execution_count": 0,
      "outputs": [
        {
          "output_type": "execute_result",
          "data": {
            "text/plain": [
              "\"I that power mind I phenomenal was of reading the could actually believe I couldn't understand what : the human .\""
            ]
          },
          "metadata": {
            "tags": []
          },
          "execution_count": 11
        }
      ]
    },
    {
      "cell_type": "markdown",
      "metadata": {
        "id": "gniSpccNoQFb",
        "colab_type": "text"
      },
      "source": [
        "# 第2章\n",
        "hightemp.txtは，日本の最高気温の記録を「都道府県」「地点」「℃」「日」のタブ区切り形式で格納したファイルである．以下の処理を行うプログラムを作成し，hightemp.txtを入力ファイルとして実行せよ．さらに，同様の処理をUNIXコマンドでも実行し，プログラムの実行結果を確認せよ．\n",
        "## 10. 行数のカウント\n",
        "行数をカウントせよ．確認にはwcコマンドを用いよ．"
      ]
    },
    {
      "cell_type": "code",
      "metadata": {
        "id": "i2apuexFoQjS",
        "colab_type": "code",
        "outputId": "6d2a0988-9f52-454e-9fbe-52db0c6210f8",
        "colab": {
          "base_uri": "https://localhost:8080/",
          "height": 34
        }
      },
      "source": [
        "len(open(\"hightemp.txt\").readlines())"
      ],
      "execution_count": 0,
      "outputs": [
        {
          "output_type": "execute_result",
          "data": {
            "text/plain": [
              "24"
            ]
          },
          "metadata": {
            "tags": []
          },
          "execution_count": 23
        }
      ]
    },
    {
      "cell_type": "code",
      "metadata": {
        "id": "7zCVWArpt776",
        "colab_type": "code",
        "outputId": "7b50f1be-6f0e-4dc3-d8b3-e0a0bd1479ad",
        "colab": {
          "base_uri": "https://localhost:8080/",
          "height": 34
        }
      },
      "source": [
        "! cat hightemp.txt | wc -l"
      ],
      "execution_count": 0,
      "outputs": [
        {
          "output_type": "stream",
          "text": [
            "24\n"
          ],
          "name": "stdout"
        }
      ]
    },
    {
      "cell_type": "markdown",
      "metadata": {
        "id": "CldmhlM_qplo",
        "colab_type": "text"
      },
      "source": [
        "## 11. タブをスペースに置換\n",
        "タブ1文字につきスペース1文字に置換せよ．確認にはsedコマンド，trコマンド，もしくはexpandコマンドを用いよ．"
      ]
    },
    {
      "cell_type": "code",
      "metadata": {
        "id": "h8JJ3CZDqpUM",
        "colab_type": "code",
        "outputId": "a436da38-f917-4757-9d48-c8fe2559f91e",
        "colab": {
          "base_uri": "https://localhost:8080/",
          "height": 425
        }
      },
      "source": [
        "import re\n",
        "import codecs\n",
        "\n",
        "with codecs.open(\"hightemp.txt\", \"r\", \"utf-8\") as f:\n",
        "    row = f.readline()\n",
        "    replaced_data = list()\n",
        "    while row:\n",
        "        replaced_data.append(row.translate(str.maketrans({\"\\t\": \" \"})))\n",
        "        row = f.readline()\n",
        "replaced_data"
      ],
      "execution_count": 0,
      "outputs": [
        {
          "output_type": "execute_result",
          "data": {
            "text/plain": [
              "['高知県 江川崎 41 2013-08-12\\n',\n",
              " '埼玉県 熊谷 40.9 2007-08-16\\n',\n",
              " '岐阜県 多治見 40.9 2007-08-16\\n',\n",
              " '山形県 山形 40.8 1933-07-25\\n',\n",
              " '山梨県 甲府 40.7 2013-08-10\\n',\n",
              " '和歌山県 かつらぎ 40.6 1994-08-08\\n',\n",
              " '静岡県 天竜 40.6 1994-08-04\\n',\n",
              " '山梨県 勝沼 40.5 2013-08-10\\n',\n",
              " '埼玉県 越谷 40.4 2007-08-16\\n',\n",
              " '群馬県 館林 40.3 2007-08-16\\n',\n",
              " '群馬県 上里見 40.3 1998-07-04\\n',\n",
              " '愛知県 愛西 40.3 1994-08-05\\n',\n",
              " '千葉県 牛久 40.2 2004-07-20\\n',\n",
              " '静岡県 佐久間 40.2 2001-07-24\\n',\n",
              " '愛媛県 宇和島 40.2 1927-07-22\\n',\n",
              " '山形県 酒田 40.1 1978-08-03\\n',\n",
              " '岐阜県 美濃 40 2007-08-16\\n',\n",
              " '群馬県 前橋 40 2001-07-24\\n',\n",
              " '千葉県 茂原 39.9 2013-08-11\\n',\n",
              " '埼玉県 鳩山 39.9 1997-07-05\\n',\n",
              " '大阪府 豊中 39.9 1994-08-08\\n',\n",
              " '山梨県 大月 39.9 1990-07-19\\n',\n",
              " '山形県 鶴岡 39.9 1978-08-03\\n',\n",
              " '愛知県 名古屋 39.9 1942-08-02\\n']"
            ]
          },
          "metadata": {
            "tags": []
          },
          "execution_count": 30
        }
      ]
    },
    {
      "cell_type": "code",
      "metadata": {
        "id": "3u-Ig69vu1_0",
        "colab_type": "code",
        "outputId": "737a0a0d-6da5-4568-8f37-9a587dbc2886",
        "colab": {
          "base_uri": "https://localhost:8080/",
          "height": 425
        }
      },
      "source": [
        "! sed \"s/\\t/ /g\" hightemp.txt > hightemp_replaced.txt && cat hightemp_replaced.txt"
      ],
      "execution_count": 0,
      "outputs": [
        {
          "output_type": "stream",
          "text": [
            "高知県 江川崎 41 2013-08-12\n",
            "埼玉県 熊谷 40.9 2007-08-16\n",
            "岐阜県 多治見 40.9 2007-08-16\n",
            "山形県 山形 40.8 1933-07-25\n",
            "山梨県 甲府 40.7 2013-08-10\n",
            "和歌山県 かつらぎ 40.6 1994-08-08\n",
            "静岡県 天竜 40.6 1994-08-04\n",
            "山梨県 勝沼 40.5 2013-08-10\n",
            "埼玉県 越谷 40.4 2007-08-16\n",
            "群馬県 館林 40.3 2007-08-16\n",
            "群馬県 上里見 40.3 1998-07-04\n",
            "愛知県 愛西 40.3 1994-08-05\n",
            "千葉県 牛久 40.2 2004-07-20\n",
            "静岡県 佐久間 40.2 2001-07-24\n",
            "愛媛県 宇和島 40.2 1927-07-22\n",
            "山形県 酒田 40.1 1978-08-03\n",
            "岐阜県 美濃 40 2007-08-16\n",
            "群馬県 前橋 40 2001-07-24\n",
            "千葉県 茂原 39.9 2013-08-11\n",
            "埼玉県 鳩山 39.9 1997-07-05\n",
            "大阪府 豊中 39.9 1994-08-08\n",
            "山梨県 大月 39.9 1990-07-19\n",
            "山形県 鶴岡 39.9 1978-08-03\n",
            "愛知県 名古屋 39.9 1942-08-02\n"
          ],
          "name": "stdout"
        }
      ]
    },
    {
      "cell_type": "markdown",
      "metadata": {
        "id": "bdWTuVXrxHuh",
        "colab_type": "text"
      },
      "source": [
        "## 12. 1列目をcol1.txtに，2列目をcol2.txtに保存\n",
        "各行の1列目だけを抜き出したものをcol1.txtに，2列目だけを抜き出したものをcol2.txtとしてファイルに保存せよ．確認にはcutコマンドを用いよ．"
      ]
    },
    {
      "cell_type": "code",
      "metadata": {
        "id": "A-WpwwGUxHdU",
        "colab_type": "code",
        "colab": {}
      },
      "source": [
        "import codecs\n",
        "\n",
        "with codecs.open(\"hightemp.txt\", \"r\", \"utf-8\")  as f,  \\\n",
        "    codecs.open(\"col1.txt\", \"w\", \"utf-8\") as col_1, codecs.open(\"col2.txt\", \"w\", \"utf-8\") as col_2:\n",
        "    row = f.readline()\n",
        "    while row:\n",
        "        words = row.split(\"\\t\")\n",
        "        col_1.write(words[0] + \"\\n\")\n",
        "        col_2.write(words[1] + \"\\n\")\n",
        "        row = f.readline()"
      ],
      "execution_count": 0,
      "outputs": []
    },
    {
      "cell_type": "code",
      "metadata": {
        "id": "3yJxqPmV1WS2",
        "colab_type": "code",
        "colab": {}
      },
      "source": [
        "! cut -f 1  hightemp.txt > col1_cmd.txt && cut -f 2  hightemp.txt > col2_cmd.txt"
      ],
      "execution_count": 0,
      "outputs": []
    },
    {
      "cell_type": "markdown",
      "metadata": {
        "id": "-GFcDv4C33C7",
        "colab_type": "text"
      },
      "source": [
        "## 13. col1.txtとcol2.txtをマージ\n",
        "12で作ったcol1.txtとcol2.txtを結合し，元のファイルの1列目と2列目をタブ区切りで並べたテキストファイルを作成せよ．確認にはpasteコマンドを用いよ．\n"
      ]
    },
    {
      "cell_type": "code",
      "metadata": {
        "id": "6NPnlN7F320D",
        "colab_type": "code",
        "colab": {}
      },
      "source": [
        "import codecs\n",
        "\n",
        "with codecs.open(\"col1.txt\", \"r\", \"utf-8\") as f_1, \\\n",
        "    codecs.open(\"col2.txt\", \"r\", \"utf-8\") as f_2, codecs.open(\"merge.txt\", \"w\", \"utf-8\") as out_f:\n",
        "    col1_word = f_1.readline().strip()\n",
        "    col2_word = f_2.readline().strip()\n",
        "    while col1_word and col2_word:\n",
        "        out_f.write(col1_word + \"\\t\" + col2_word + \"\\n\")\n",
        "        col1_word = f_1.readline().strip()\n",
        "        col2_word = f_2.readline().strip()\n",
        "    "
      ],
      "execution_count": 0,
      "outputs": []
    },
    {
      "cell_type": "code",
      "metadata": {
        "id": "fGwoRlTj32mS",
        "colab_type": "code",
        "colab": {}
      },
      "source": [
        "!paste col1.txt col2.txt > merge.txt"
      ],
      "execution_count": 0,
      "outputs": []
    },
    {
      "cell_type": "markdown",
      "metadata": {
        "id": "eIslFCCGuYxC",
        "colab_type": "text"
      },
      "source": [
        "## 14. 先頭からN行を出力\n",
        "自然数Nをコマンドライン引数などの手段で受け取り，入力のうち先頭のN行だけを表示せよ．確認にはheadコマンドを用いよ．"
      ]
    },
    {
      "cell_type": "code",
      "metadata": {
        "id": "nnDnq6TyuYgZ",
        "colab_type": "code",
        "colab": {
          "base_uri": "https://localhost:8080/",
          "height": 85
        },
        "outputId": "4c61b810-aa36-41d2-9fff-b14af7be5c36"
      },
      "source": [
        "import codecs\n",
        "\n",
        "def is_int(val):\n",
        "    try:\n",
        "        int(val)\n",
        "        return True\n",
        "    except:\n",
        "        return False\n",
        "    \n",
        "row_num = input(\"出力したい行数を入力してください: \")\n",
        "if not is_int(row_num):\n",
        "    raise ValueError(\"数字を入力してください\")\n",
        "row = int(row_num)\n",
        "if row <= 0:\n",
        "    raise ValueError(\"1以上の数字を入力してください\")\n",
        "    \n",
        "with codecs.open(\"hightemp.txt\", \"r\", \"utf-8\") as f:\n",
        "    for i in range(row):\n",
        "        data = f.readline().strip()\n",
        "        print(data)"
      ],
      "execution_count": 23,
      "outputs": [
        {
          "output_type": "stream",
          "text": [
            "出力したい行数を入力してください: 3\n",
            "高知県\t江川崎\t41\t2013-08-12\n",
            "埼玉県\t熊谷\t40.9\t2007-08-16\n",
            "岐阜県\t多治見\t40.9\t2007-08-16\n"
          ],
          "name": "stdout"
        }
      ]
    },
    {
      "cell_type": "code",
      "metadata": {
        "id": "0n-U9__n2wY2",
        "colab_type": "code",
        "colab": {
          "base_uri": "https://localhost:8080/",
          "height": 68
        },
        "outputId": "bfdc556a-9b8f-44c5-a261-2379af7e0573"
      },
      "source": [
        "!head -n 3 hightemp.txt"
      ],
      "execution_count": 23,
      "outputs": [
        {
          "output_type": "stream",
          "text": [
            "高知県\t江川崎\t41\t2013-08-12\n",
            "埼玉県\t熊谷\t40.9\t2007-08-16\n",
            "岐阜県\t多治見\t40.9\t2007-08-16\n"
          ],
          "name": "stdout"
        }
      ]
    },
    {
      "cell_type": "markdown",
      "metadata": {
        "id": "Eph9agHuuYEY",
        "colab_type": "text"
      },
      "source": [
        "## 15. 末尾のN行を出力\n",
        "自然数Nをコマンドライン引数などの手段で受け取り，入力のうち末尾のN行だけを表示せよ．確認にはtailコマンドを用いよ．"
      ]
    },
    {
      "cell_type": "code",
      "metadata": {
        "id": "nAL-4YUruZ3f",
        "colab_type": "code",
        "colab": {
          "base_uri": "https://localhost:8080/",
          "height": 102
        },
        "outputId": "b5f29ade-0305-4f40-c447-2fc6a4c850d5"
      },
      "source": [
        "import codecs\n",
        "\n",
        "def is_int(val):\n",
        "    try:\n",
        "        int(val)\n",
        "        return True\n",
        "    except:\n",
        "        return False\n",
        "    \n",
        "row_num = input(\"出力したい行数を入力してください: \")\n",
        "if not is_int(row_num):\n",
        "    raise ValueError(\"数字を入力してください\")\n",
        "row = int(row_num)\n",
        "if row <= 0:\n",
        "    raise ValueError(\"1以上の数字を入力してください\")\n",
        "    \n",
        "with codecs.open(\"hightemp.txt\", \"r\", \"utf-8\") as f:\n",
        "    print(\"\".join(f.readlines()[-1 * row:]))"
      ],
      "execution_count": 19,
      "outputs": [
        {
          "output_type": "stream",
          "text": [
            "出力したい行数を入力してください: 3\n",
            "山梨県\t大月\t39.9\t1990-07-19\n",
            "山形県\t鶴岡\t39.9\t1978-08-03\n",
            "愛知県\t名古屋\t39.9\t1942-08-02\n",
            "\n"
          ],
          "name": "stdout"
        }
      ]
    },
    {
      "cell_type": "code",
      "metadata": {
        "id": "oJY2XY7EQR47",
        "colab_type": "code",
        "colab": {
          "base_uri": "https://localhost:8080/",
          "height": 68
        },
        "outputId": "34fead99-7698-4c14-c4e3-6d40dc3fc9df"
      },
      "source": [
        "!tail -n 3 hightemp.txt"
      ],
      "execution_count": 7,
      "outputs": [
        {
          "output_type": "stream",
          "text": [
            "山梨県\t大月\t39.9\t1990-07-19\n",
            "山形県\t鶴岡\t39.9\t1978-08-03\n",
            "愛知県\t名古屋\t39.9\t1942-08-02\n"
          ],
          "name": "stdout"
        }
      ]
    },
    {
      "cell_type": "markdown",
      "metadata": {
        "id": "YtF35P7KTlKZ",
        "colab_type": "text"
      },
      "source": [
        "## 16. ファイルをN分割する\n",
        "自然数Nをコマンドライン引数などの手段で受け取り，入力のファイルを行単位でN分割せよ．同様の処理をsplitコマンドで実現せよ．"
      ]
    },
    {
      "cell_type": "code",
      "metadata": {
        "id": "ORtKsJKQSmhx",
        "colab_type": "code",
        "colab": {
          "base_uri": "https://localhost:8080/",
          "height": 119
        },
        "outputId": "6281c08c-2e0c-443e-8883-779b1bb8ccd6"
      },
      "source": [
        "import codecs\n",
        "\n",
        "def is_int(val):\n",
        "    try:\n",
        "        int(val)\n",
        "        return True\n",
        "    except:\n",
        "        return False\n",
        "    \n",
        "def split_row_count(total_count, split_count):\n",
        "    row_ave_count = total_count // split_count\n",
        "    count_up_num = total_count % split_count\n",
        "    return [row_ave_count + 1] * count_up_num + [row_ave_count] * (split_count - count_up_num)\n",
        "    \n",
        "row_num = input(\"分割数を入力してください: \")\n",
        "if not is_int(row_num):\n",
        "    raise ValueError(\"数字を入力してください\")\n",
        "row = int(row_num)\n",
        "if row <= 0:\n",
        "    raise ValueError(\"1以上の数字を入力してください\")\n",
        "    \n",
        "with codecs.open(\"hightemp.txt\", \"r\", \"utf-8\") as f:\n",
        "    all_data = f.readlines()\n",
        "    for ind, offset in enumerate(split_row_count(len(all_data), row)):\n",
        "        file_name = \"split_{}.txt\".format(ind + 1)\n",
        "        print(file_name)\n",
        "        with codecs.open(file_name, \"w\", \"utf-8\") as out_f:\n",
        "            out_f.write(\"\".join(all_data[offset * ind:offset * (ind + 1)]))"
      ],
      "execution_count": 61,
      "outputs": [
        {
          "output_type": "stream",
          "text": [
            "分割数を入力してください: 5\n",
            "split_1.txt\n",
            "split_2.txt\n",
            "split_3.txt\n",
            "split_4.txt\n",
            "split_5.txt\n"
          ],
          "name": "stdout"
        }
      ]
    },
    {
      "cell_type": "code",
      "metadata": {
        "id": "n_tW7DenhBWQ",
        "colab_type": "code",
        "colab": {}
      },
      "source": [
        "! split -l 5 hightemp.txt split_cmd_"
      ],
      "execution_count": 0,
      "outputs": []
    },
    {
      "cell_type": "markdown",
      "metadata": {
        "id": "y454NJeoOeNP",
        "colab_type": "text"
      },
      "source": [
        "## 17. １列目の文字列の異なり\n",
        "1列目の文字列の種類（異なる文字列の集合）を求めよ．確認にはsort, uniqコマンドを用いよ．"
      ]
    },
    {
      "cell_type": "code",
      "metadata": {
        "id": "7ttKQiV3Oc_y",
        "colab_type": "code",
        "colab": {
          "base_uri": "https://localhost:8080/",
          "height": 34
        },
        "outputId": "b28fa8f5-8508-4e52-edc4-8ed61aa5d1eb"
      },
      "source": [
        "import codecs\n",
        "\n",
        "def get_column_data(list_data, column_num, delimiter=\",\"):\n",
        "    target_column_data = list()\n",
        "    for data in list_data:\n",
        "        target_column_data.append(data.split(delimiter)[column_num - 1])\n",
        "    return target_column_data\n",
        "\n",
        "def to_uniq(list_data):\n",
        "    return list(set(list_data))\n",
        "\n",
        "with codecs.open(\"hightemp.txt\", \"r\", \"utf-8\")  as f:\n",
        "    data = f.readlines()\n",
        "uniq_data = to_uniq(get_column_data(data, 1, delimiter=\"\\t\"))\n",
        "print(uniq_data)"
      ],
      "execution_count": 3,
      "outputs": [
        {
          "output_type": "stream",
          "text": [
            "['愛媛県', '岐阜県', '愛知県', '埼玉県', '和歌山県', '千葉県', '山梨県', '大阪府', '山形県', '高知県', '静岡県', '群馬県']\n"
          ],
          "name": "stdout"
        }
      ]
    },
    {
      "cell_type": "markdown",
      "metadata": {
        "id": "szAl-1CFOclE",
        "colab_type": "text"
      },
      "source": [
        ""
      ]
    },
    {
      "cell_type": "code",
      "metadata": {
        "id": "BoMVTbo3OdxO",
        "colab_type": "code",
        "colab": {
          "base_uri": "https://localhost:8080/",
          "height": 221
        },
        "outputId": "d0f183a5-19a4-49a8-a25a-911ee210ac0a"
      },
      "source": [
        "! cut -f 1 hightemp.txt | sort | uniq"
      ],
      "execution_count": 11,
      "outputs": [
        {
          "output_type": "stream",
          "text": [
            "千葉県\n",
            "和歌山県\n",
            "埼玉県\n",
            "大阪府\n",
            "山形県\n",
            "山梨県\n",
            "岐阜県\n",
            "愛媛県\n",
            "愛知県\n",
            "群馬県\n",
            "静岡県\n",
            "高知県\n"
          ],
          "name": "stdout"
        }
      ]
    },
    {
      "cell_type": "markdown",
      "metadata": {
        "id": "yLLaE2iHUGRJ",
        "colab_type": "text"
      },
      "source": [
        "## 18. 各行を3コラム目の数値の降順にソート\n",
        "各行を3コラム目の数値の逆順で整列せよ（注意: 各行の内容は変更せずに並び替えよ）．確認にはsortコマンドを用いよ（この問題はコマンドで実行した時の結果と合わなくてもよい）．"
      ]
    },
    {
      "cell_type": "code",
      "metadata": {
        "id": "ZLSVs-U6SU8J",
        "colab_type": "code",
        "colab": {
          "base_uri": "https://localhost:8080/",
          "height": 898
        },
        "outputId": "fa9b55dd-8768-4646-db8a-e96e00970d88"
      },
      "source": [
        "!pip install pandas\n",
        "\n",
        "import pandas as pd\n",
        "\n",
        "import re\n",
        "\n",
        "\n",
        "df = pd.read_csv(\"hightemp.txt\", sep='\\t', header=None)\n",
        "df.sort_index(axis=1, level=2)"
      ],
      "execution_count": 18,
      "outputs": [
        {
          "output_type": "stream",
          "text": [
            "Requirement already satisfied: pandas in /usr/local/lib/python3.6/dist-packages (0.24.2)\n",
            "Requirement already satisfied: pytz>=2011k in /usr/local/lib/python3.6/dist-packages (from pandas) (2018.9)\n",
            "Requirement already satisfied: numpy>=1.12.0 in /usr/local/lib/python3.6/dist-packages (from pandas) (1.16.4)\n",
            "Requirement already satisfied: python-dateutil>=2.5.0 in /usr/local/lib/python3.6/dist-packages (from pandas) (2.5.3)\n",
            "Requirement already satisfied: six>=1.5 in /usr/local/lib/python3.6/dist-packages (from python-dateutil>=2.5.0->pandas) (1.12.0)\n"
          ],
          "name": "stdout"
        },
        {
          "output_type": "execute_result",
          "data": {
            "text/html": [
              "<div>\n",
              "<style scoped>\n",
              "    .dataframe tbody tr th:only-of-type {\n",
              "        vertical-align: middle;\n",
              "    }\n",
              "\n",
              "    .dataframe tbody tr th {\n",
              "        vertical-align: top;\n",
              "    }\n",
              "\n",
              "    .dataframe thead th {\n",
              "        text-align: right;\n",
              "    }\n",
              "</style>\n",
              "<table border=\"1\" class=\"dataframe\">\n",
              "  <thead>\n",
              "    <tr style=\"text-align: right;\">\n",
              "      <th></th>\n",
              "      <th>0</th>\n",
              "      <th>1</th>\n",
              "      <th>2</th>\n",
              "      <th>3</th>\n",
              "    </tr>\n",
              "  </thead>\n",
              "  <tbody>\n",
              "    <tr>\n",
              "      <th>0</th>\n",
              "      <td>高知県</td>\n",
              "      <td>江川崎</td>\n",
              "      <td>41.0</td>\n",
              "      <td>2013-08-12</td>\n",
              "    </tr>\n",
              "    <tr>\n",
              "      <th>1</th>\n",
              "      <td>埼玉県</td>\n",
              "      <td>熊谷</td>\n",
              "      <td>40.9</td>\n",
              "      <td>2007-08-16</td>\n",
              "    </tr>\n",
              "    <tr>\n",
              "      <th>2</th>\n",
              "      <td>岐阜県</td>\n",
              "      <td>多治見</td>\n",
              "      <td>40.9</td>\n",
              "      <td>2007-08-16</td>\n",
              "    </tr>\n",
              "    <tr>\n",
              "      <th>3</th>\n",
              "      <td>山形県</td>\n",
              "      <td>山形</td>\n",
              "      <td>40.8</td>\n",
              "      <td>1933-07-25</td>\n",
              "    </tr>\n",
              "    <tr>\n",
              "      <th>4</th>\n",
              "      <td>山梨県</td>\n",
              "      <td>甲府</td>\n",
              "      <td>40.7</td>\n",
              "      <td>2013-08-10</td>\n",
              "    </tr>\n",
              "    <tr>\n",
              "      <th>5</th>\n",
              "      <td>和歌山県</td>\n",
              "      <td>かつらぎ</td>\n",
              "      <td>40.6</td>\n",
              "      <td>1994-08-08</td>\n",
              "    </tr>\n",
              "    <tr>\n",
              "      <th>6</th>\n",
              "      <td>静岡県</td>\n",
              "      <td>天竜</td>\n",
              "      <td>40.6</td>\n",
              "      <td>1994-08-04</td>\n",
              "    </tr>\n",
              "    <tr>\n",
              "      <th>7</th>\n",
              "      <td>山梨県</td>\n",
              "      <td>勝沼</td>\n",
              "      <td>40.5</td>\n",
              "      <td>2013-08-10</td>\n",
              "    </tr>\n",
              "    <tr>\n",
              "      <th>8</th>\n",
              "      <td>埼玉県</td>\n",
              "      <td>越谷</td>\n",
              "      <td>40.4</td>\n",
              "      <td>2007-08-16</td>\n",
              "    </tr>\n",
              "    <tr>\n",
              "      <th>9</th>\n",
              "      <td>群馬県</td>\n",
              "      <td>館林</td>\n",
              "      <td>40.3</td>\n",
              "      <td>2007-08-16</td>\n",
              "    </tr>\n",
              "    <tr>\n",
              "      <th>10</th>\n",
              "      <td>群馬県</td>\n",
              "      <td>上里見</td>\n",
              "      <td>40.3</td>\n",
              "      <td>1998-07-04</td>\n",
              "    </tr>\n",
              "    <tr>\n",
              "      <th>11</th>\n",
              "      <td>愛知県</td>\n",
              "      <td>愛西</td>\n",
              "      <td>40.3</td>\n",
              "      <td>1994-08-05</td>\n",
              "    </tr>\n",
              "    <tr>\n",
              "      <th>12</th>\n",
              "      <td>千葉県</td>\n",
              "      <td>牛久</td>\n",
              "      <td>40.2</td>\n",
              "      <td>2004-07-20</td>\n",
              "    </tr>\n",
              "    <tr>\n",
              "      <th>13</th>\n",
              "      <td>静岡県</td>\n",
              "      <td>佐久間</td>\n",
              "      <td>40.2</td>\n",
              "      <td>2001-07-24</td>\n",
              "    </tr>\n",
              "    <tr>\n",
              "      <th>14</th>\n",
              "      <td>愛媛県</td>\n",
              "      <td>宇和島</td>\n",
              "      <td>40.2</td>\n",
              "      <td>1927-07-22</td>\n",
              "    </tr>\n",
              "    <tr>\n",
              "      <th>15</th>\n",
              "      <td>山形県</td>\n",
              "      <td>酒田</td>\n",
              "      <td>40.1</td>\n",
              "      <td>1978-08-03</td>\n",
              "    </tr>\n",
              "    <tr>\n",
              "      <th>16</th>\n",
              "      <td>岐阜県</td>\n",
              "      <td>美濃</td>\n",
              "      <td>40.0</td>\n",
              "      <td>2007-08-16</td>\n",
              "    </tr>\n",
              "    <tr>\n",
              "      <th>17</th>\n",
              "      <td>群馬県</td>\n",
              "      <td>前橋</td>\n",
              "      <td>40.0</td>\n",
              "      <td>2001-07-24</td>\n",
              "    </tr>\n",
              "    <tr>\n",
              "      <th>18</th>\n",
              "      <td>千葉県</td>\n",
              "      <td>茂原</td>\n",
              "      <td>39.9</td>\n",
              "      <td>2013-08-11</td>\n",
              "    </tr>\n",
              "    <tr>\n",
              "      <th>19</th>\n",
              "      <td>埼玉県</td>\n",
              "      <td>鳩山</td>\n",
              "      <td>39.9</td>\n",
              "      <td>1997-07-05</td>\n",
              "    </tr>\n",
              "    <tr>\n",
              "      <th>20</th>\n",
              "      <td>大阪府</td>\n",
              "      <td>豊中</td>\n",
              "      <td>39.9</td>\n",
              "      <td>1994-08-08</td>\n",
              "    </tr>\n",
              "    <tr>\n",
              "      <th>21</th>\n",
              "      <td>山梨県</td>\n",
              "      <td>大月</td>\n",
              "      <td>39.9</td>\n",
              "      <td>1990-07-19</td>\n",
              "    </tr>\n",
              "    <tr>\n",
              "      <th>22</th>\n",
              "      <td>山形県</td>\n",
              "      <td>鶴岡</td>\n",
              "      <td>39.9</td>\n",
              "      <td>1978-08-03</td>\n",
              "    </tr>\n",
              "    <tr>\n",
              "      <th>23</th>\n",
              "      <td>愛知県</td>\n",
              "      <td>名古屋</td>\n",
              "      <td>39.9</td>\n",
              "      <td>1942-08-02</td>\n",
              "    </tr>\n",
              "  </tbody>\n",
              "</table>\n",
              "</div>"
            ],
            "text/plain": [
              "       0     1     2           3\n",
              "0    高知県   江川崎  41.0  2013-08-12\n",
              "1    埼玉県    熊谷  40.9  2007-08-16\n",
              "2    岐阜県   多治見  40.9  2007-08-16\n",
              "3    山形県    山形  40.8  1933-07-25\n",
              "4    山梨県    甲府  40.7  2013-08-10\n",
              "5   和歌山県  かつらぎ  40.6  1994-08-08\n",
              "6    静岡県    天竜  40.6  1994-08-04\n",
              "7    山梨県    勝沼  40.5  2013-08-10\n",
              "8    埼玉県    越谷  40.4  2007-08-16\n",
              "9    群馬県    館林  40.3  2007-08-16\n",
              "10   群馬県   上里見  40.3  1998-07-04\n",
              "11   愛知県    愛西  40.3  1994-08-05\n",
              "12   千葉県    牛久  40.2  2004-07-20\n",
              "13   静岡県   佐久間  40.2  2001-07-24\n",
              "14   愛媛県   宇和島  40.2  1927-07-22\n",
              "15   山形県    酒田  40.1  1978-08-03\n",
              "16   岐阜県    美濃  40.0  2007-08-16\n",
              "17   群馬県    前橋  40.0  2001-07-24\n",
              "18   千葉県    茂原  39.9  2013-08-11\n",
              "19   埼玉県    鳩山  39.9  1997-07-05\n",
              "20   大阪府    豊中  39.9  1994-08-08\n",
              "21   山梨県    大月  39.9  1990-07-19\n",
              "22   山形県    鶴岡  39.9  1978-08-03\n",
              "23   愛知県   名古屋  39.9  1942-08-02"
            ]
          },
          "metadata": {
            "tags": []
          },
          "execution_count": 18
        }
      ]
    },
    {
      "cell_type": "code",
      "metadata": {
        "id": "8Td3PS1BZv_5",
        "colab_type": "code",
        "colab": {
          "base_uri": "https://localhost:8080/",
          "height": 425
        },
        "outputId": "03cc248b-0b15-4421-c11d-237daf727699"
      },
      "source": [
        "!sort -k 3,3 hightemp.txt"
      ],
      "execution_count": 21,
      "outputs": [
        {
          "output_type": "stream",
          "text": [
            "千葉県\t茂原\t39.9\t2013-08-11\n",
            "埼玉県\t鳩山\t39.9\t1997-07-05\n",
            "大阪府\t豊中\t39.9\t1994-08-08\n",
            "山形県\t鶴岡\t39.9\t1978-08-03\n",
            "山梨県\t大月\t39.9\t1990-07-19\n",
            "愛知県\t名古屋\t39.9\t1942-08-02\n",
            "岐阜県\t美濃\t40\t2007-08-16\n",
            "群馬県\t前橋\t40\t2001-07-24\n",
            "山形県\t酒田\t40.1\t1978-08-03\n",
            "千葉県\t牛久\t40.2\t2004-07-20\n",
            "愛媛県\t宇和島\t40.2\t1927-07-22\n",
            "静岡県\t佐久間\t40.2\t2001-07-24\n",
            "愛知県\t愛西\t40.3\t1994-08-05\n",
            "群馬県\t上里見\t40.3\t1998-07-04\n",
            "群馬県\t館林\t40.3\t2007-08-16\n",
            "埼玉県\t越谷\t40.4\t2007-08-16\n",
            "山梨県\t勝沼\t40.5\t2013-08-10\n",
            "和歌山県\tかつらぎ\t40.6\t1994-08-08\n",
            "静岡県\t天竜\t40.6\t1994-08-04\n",
            "山梨県\t甲府\t40.7\t2013-08-10\n",
            "山形県\t山形\t40.8\t1933-07-25\n",
            "埼玉県\t熊谷\t40.9\t2007-08-16\n",
            "岐阜県\t多治見\t40.9\t2007-08-16\n",
            "高知県\t江川崎\t41\t2013-08-12\n"
          ],
          "name": "stdout"
        }
      ]
    },
    {
      "cell_type": "markdown",
      "metadata": {
        "id": "4pEbI0OGaLks",
        "colab_type": "text"
      },
      "source": [
        "## 19. 各行の1コラム目の文字列の出現頻度を求め，出現頻度の高い順に並べる\n",
        "各行の1列目の文字列の出現頻度を求め，その高い順に並べて表示せよ．確認にはcut, uniq, sortコマンドを用いよ．"
      ]
    },
    {
      "cell_type": "code",
      "metadata": {
        "id": "jEVhAIhiaLVl",
        "colab_type": "code",
        "colab": {
          "base_uri": "https://localhost:8080/",
          "height": 54
        },
        "outputId": "3640e958-5856-4e2f-f52b-fe3de235a583"
      },
      "source": [
        "import codecs\n",
        "\n",
        "def get_column_data(list_data, column_num, delimiter=\",\"):\n",
        "    target_column_data = list()\n",
        "    for data in list_data:\n",
        "        target_column_data.append(data.split(delimiter)[column_num - 1])\n",
        "    return target_column_data\n",
        "\n",
        "with codecs.open(\"hightemp.txt\", \"r\", \"utf-8\") as f:\n",
        "    data = f.readlines()\n",
        "\n",
        "word_dic = dict()\n",
        "for word in  get_column_data(data, 1, delimiter=\"\\t\"):\n",
        "    if word in word_dic.keys():\n",
        "        word_dic[word] += 1\n",
        "    else:\n",
        "        word_dic[word] = 1\n",
        "word_sorted = sorted(word_dic.items(), key=lambda x:x[1], reverse=True)\n",
        "print(word_sorted)"
      ],
      "execution_count": 30,
      "outputs": [
        {
          "output_type": "stream",
          "text": [
            "[('埼玉県', 3), ('山形県', 3), ('山梨県', 3), ('群馬県', 3), ('岐阜県', 2), ('静岡県', 2), ('愛知県', 2), ('千葉県', 2), ('高知県', 1), ('和歌山県', 1), ('愛媛県', 1), ('大阪府', 1)]\n"
          ],
          "name": "stdout"
        }
      ]
    },
    {
      "cell_type": "code",
      "metadata": {
        "id": "TkRyyMQJd-1T",
        "colab_type": "code",
        "colab": {
          "base_uri": "https://localhost:8080/",
          "height": 221
        },
        "outputId": "36d79c8c-56f6-4c6f-9926-10fffec84ffc"
      },
      "source": [
        "!cut -f 1 hightemp.txt  | sort | uniq -c | sort -r"
      ],
      "execution_count": 35,
      "outputs": [
        {
          "output_type": "stream",
          "text": [
            "      3 群馬県\n",
            "      3 山梨県\n",
            "      3 山形県\n",
            "      3 埼玉県\n",
            "      2 静岡県\n",
            "      2 愛知県\n",
            "      2 岐阜県\n",
            "      2 千葉県\n",
            "      1 高知県\n",
            "      1 愛媛県\n",
            "      1 大阪府\n",
            "      1 和歌山県\n"
          ],
          "name": "stdout"
        }
      ]
    },
    {
      "cell_type": "markdown",
      "metadata": {
        "id": "Pg7G01hPaK6E",
        "colab_type": "text"
      },
      "source": [
        "# 第3章\n",
        "Wikipediaの記事を以下のフォーマットで書き出したファイルjawiki-country.json.gzがある．\n",
        "* 1行に1記事の情報がJSON形式で格納される\n",
        "* 各行には記事名が\"title\"キーに，記事本文が\"text\"キーの辞書オブジェクトに格納され，そのオブジェクトがJSON形式で書き出される\n",
        "* ファイル全体はgzipで圧縮される\n",
        "\n",
        "以下の処理を行うプログラムを作成せよ．\n",
        "\n",
        "## 20. JSONデータの読み込み\n",
        "Wikipedia記事のJSONファイルを読み込み，「イギリス」に関する記事本文を表示せよ．問題21-29では，ここで抽出した記事本文に対して実行せよ．"
      ]
    },
    {
      "cell_type": "code",
      "metadata": {
        "id": "6SK7rpT9aL_j",
        "colab_type": "code",
        "colab": {}
      },
      "source": [
        ""
      ],
      "execution_count": 0,
      "outputs": []
    }
  ]
}