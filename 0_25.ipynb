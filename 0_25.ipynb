{
  "nbformat": 4,
  "nbformat_minor": 0,
  "metadata": {
    "colab": {
      "name": "0_25.ipynb",
      "version": "0.3.2",
      "provenance": [],
      "collapsed_sections": []
    },
    "kernelspec": {
      "name": "python3",
      "display_name": "Python 3"
    }
  },
  "cells": [
    {
      "cell_type": "markdown",
      "metadata": {
        "id": "lHNIqM9-qaNx",
        "colab_type": "text"
      },
      "source": [
        "- [Open with Colab](https://colab.research.google.com/github/risa0320/python100/blob/master/0_25S.ipynb)"
      ]
    },
    {
      "cell_type": "markdown",
      "metadata": {
        "id": "52jhwV8HRLmO",
        "colab_type": "text"
      },
      "source": [
        "# 第1章\n",
        "## 00. 文字列の逆順\n",
        "文字列\"stressed\"の文字を逆に（末尾から先頭に向かって）並べた文字列を得よ"
      ]
    },
    {
      "cell_type": "code",
      "metadata": {
        "id": "aXhlbI60Q0As",
        "colab_type": "code",
        "colab": {
          "base_uri": "https://localhost:8080/",
          "height": 34
        },
        "outputId": "72f8baf6-8c61-4216-cb6f-31c243c0c821"
      },
      "source": [
        "word = \"stressed\"\n",
        "word[::-1]"
      ],
      "execution_count": 4,
      "outputs": [
        {
          "output_type": "execute_result",
          "data": {
            "text/plain": [
              "'desserts'"
            ]
          },
          "metadata": {
            "tags": []
          },
          "execution_count": 4
        }
      ]
    },
    {
      "cell_type": "markdown",
      "metadata": {
        "id": "911oYpL5Rrgk",
        "colab_type": "text"
      },
      "source": [
        "## 01. 「パタトクカシーー」\n",
        "「パタトクカシーー」という文字列の1,3,5,7文字目を取り出して連結した文字列を得よ"
      ]
    },
    {
      "cell_type": "code",
      "metadata": {
        "id": "x4eJP_g8Rydg",
        "colab_type": "code",
        "colab": {
          "base_uri": "https://localhost:8080/",
          "height": 34
        },
        "outputId": "a31ee935-2750-4fc7-bb6f-f8118aa73bfb"
      },
      "source": [
        "word_1 = \"パタトクカシーー\"\n",
        "word_1[0::2]"
      ],
      "execution_count": 6,
      "outputs": [
        {
          "output_type": "execute_result",
          "data": {
            "text/plain": [
              "'パトカー'"
            ]
          },
          "metadata": {
            "tags": []
          },
          "execution_count": 6
        }
      ]
    },
    {
      "cell_type": "markdown",
      "metadata": {
        "id": "rkuKUo1OSaCN",
        "colab_type": "text"
      },
      "source": [
        "## 02. 「パトカー」＋「タクシー」＝「パタトクカシーー」\n",
        "「パトカー」＋「タクシー」の文字を先頭から交互に連結して文字列「パタトクカシーー」を得よ．"
      ]
    },
    {
      "cell_type": "code",
      "metadata": {
        "id": "gNz0fQ8vRrCN",
        "colab_type": "code",
        "colab": {
          "base_uri": "https://localhost:8080/",
          "height": 34
        },
        "outputId": "ce5661ab-1ec7-4d91-be4e-a5bc94ceb3ee"
      },
      "source": [
        "pato = \"パトカー\"\n",
        "taxi = \"タクシー\"\n",
        "merge_word = \"\"\n",
        "\n",
        "for w_1, w_2 in zip(pato,taxi):\n",
        "    merge_word += w_1 + w_2\n",
        "merge_word\n"
      ],
      "execution_count": 19,
      "outputs": [
        {
          "output_type": "execute_result",
          "data": {
            "text/plain": [
              "'パタトクカシーー'"
            ]
          },
          "metadata": {
            "tags": []
          },
          "execution_count": 19
        }
      ]
    },
    {
      "cell_type": "markdown",
      "metadata": {
        "id": "u_1nr778VXIY",
        "colab_type": "text"
      },
      "source": [
        "## 03. 円周率\n",
        "\"Now I need a drink, alcoholic of course, after the heavy lectures involving quantum mechanics.\"という文を単語に分解し，各単語の（アルファベットの）文字数を先頭から出現順に並べたリストを作成せよ．"
      ]
    },
    {
      "cell_type": "code",
      "metadata": {
        "id": "YtLPLZWfVWy_",
        "colab_type": "code",
        "colab": {
          "base_uri": "https://localhost:8080/",
          "height": 34
        },
        "outputId": "1cb28f58-ef7a-43f8-f3a9-14990dcd6d88"
      },
      "source": [
        "sentence = \"Now I need a drink, alcoholic of course, after the heavy lectures involving quantum mechanics.\"\n",
        "words = [len(x)  for x in sentence.split(\" \")]\n",
        "words"
      ],
      "execution_count": 23,
      "outputs": [
        {
          "output_type": "execute_result",
          "data": {
            "text/plain": [
              "[3, 1, 4, 1, 6, 9, 2, 7, 5, 3, 5, 8, 9, 7, 10]"
            ]
          },
          "metadata": {
            "tags": []
          },
          "execution_count": 23
        }
      ]
    },
    {
      "cell_type": "markdown",
      "metadata": {
        "id": "sNi0Ce0EWWNi",
        "colab_type": "text"
      },
      "source": [
        "## 04. 元素記号\n",
        "\"Hi He Lied Because Boron Could Not Oxidize Fluorine. New Nations Might Also Sign Peace Security Clause. Arthur King Can.\"という文を単語に分解し，1, 5, 6, 7, 8, 9, 15, 16, 19番目の単語は先頭の1文字，それ以外の単語は先頭に2文字を取り出し，取り出した文字列から単語の位置（先頭から何番目の単語か）への連想配列（辞書型もしくはマップ型）を作成せよ．"
      ]
    },
    {
      "cell_type": "code",
      "metadata": {
        "id": "Ptqq_8hVWVv1",
        "colab_type": "code",
        "colab": {
          "base_uri": "https://localhost:8080/",
          "height": 357
        },
        "outputId": "75b1839e-d990-426f-885a-b900b9f9ec6b"
      },
      "source": [
        "contents = \"Hi He Lied Because Boron Could Not Oxidize Fluorine. New Nations Might Also Sign Peace Security Clause. Arthur King Can.\"\n",
        "genso_list = contents.split(\" \")\n",
        "split_head = [1, 5, 6, 7, 8, 9, 15, 16, 19]\n",
        "\n",
        "genso_map = dict()\n",
        "for ind, genso in enumerate(genso_list):\n",
        "    if ind + 1 in split_head:\n",
        "        sgn = genso[0]\n",
        "    else:\n",
        "        sgn = genso[0:2]\n",
        "    genso_map[sgn] = ind + 1\n",
        "\n",
        "genso_map"
      ],
      "execution_count": 32,
      "outputs": [
        {
          "output_type": "execute_result",
          "data": {
            "text/plain": [
              "{'Al': 13,\n",
              " 'Ar': 18,\n",
              " 'B': 5,\n",
              " 'Be': 4,\n",
              " 'C': 6,\n",
              " 'Ca': 20,\n",
              " 'Cl': 17,\n",
              " 'F': 9,\n",
              " 'H': 1,\n",
              " 'He': 2,\n",
              " 'K': 19,\n",
              " 'Li': 3,\n",
              " 'Mi': 12,\n",
              " 'N': 7,\n",
              " 'Na': 11,\n",
              " 'Ne': 10,\n",
              " 'O': 8,\n",
              " 'P': 15,\n",
              " 'S': 16,\n",
              " 'Si': 14}"
            ]
          },
          "metadata": {
            "tags": []
          },
          "execution_count": 32
        }
      ]
    },
    {
      "cell_type": "markdown",
      "metadata": {
        "id": "i_cSmj02Yhkq",
        "colab_type": "text"
      },
      "source": [
        "## 05. n-gram\n",
        "与えられたシーケンス（文字列やリストなど）からn-gramを作る関数を作成せよ．この関数を用い，\"I am an NLPer\"という文から単語bi-gram，文字bi-gramを得よ．"
      ]
    },
    {
      "cell_type": "code",
      "metadata": {
        "id": "YGNgmkgzXOeu",
        "colab_type": "code",
        "colab": {
          "base_uri": "https://localhost:8080/",
          "height": 51
        },
        "outputId": "c11214fa-9a01-445f-fe40-59deb31dc14c"
      },
      "source": [
        "def generate_ngram(sentense, mode):\n",
        "    if mode == \"word\":\n",
        "        return word_bi_gram(sentense)\n",
        "    elif mode == \"char\":\n",
        "        return char_bi_gram(sentense)\n",
        "    else:\n",
        "        raise ValueError(\"Plase choice word mode or char mode .\")\n",
        "\n",
        "def word_bi_gram(sentense):\n",
        "    word_list = sentense.split(\" \")\n",
        "    bi_gram = list()\n",
        "    total_cnt = len(word_list)\n",
        "    for ind, word in enumerate(word_list):\n",
        "        if ind + 1 == total_cnt:\n",
        "            w = word\n",
        "        else:\n",
        "            w = word + \" \" + word_list[ind + 1]\n",
        "        bi_gram.append(w)\n",
        "    return bi_gram\n",
        "            \n",
        "def char_bi_gram(sentense):\n",
        "    words = sentense.replace(\" \", \"\")\n",
        "    bi_gram = list()\n",
        "    total_cnt = len(words)\n",
        "    for ind, word in enumerate(list(words)):\n",
        "        if ind + 1 == total_cnt:\n",
        "            w = word\n",
        "        else:\n",
        "            w = word + words[ind + 1]\n",
        "        bi_gram.append(w)\n",
        "    return bi_gram\n",
        "          \n",
        "snt = \"I am an NLPer\"\n",
        "print(generate_ngram(snt, mode=\"word\"))\n",
        "print(generate_ngram(snt, mode=\"char\"))"
      ],
      "execution_count": 6,
      "outputs": [
        {
          "output_type": "stream",
          "text": [
            "['I am', 'am an', 'an NLPer', 'NLPer']\n",
            "['Ia', 'am', 'ma', 'an', 'nN', 'NL', 'LP', 'Pe', 'er', 'r']\n"
          ],
          "name": "stdout"
        }
      ]
    },
    {
      "cell_type": "markdown",
      "metadata": {
        "id": "lwiVVCFdeFpj",
        "colab_type": "text"
      },
      "source": [
        "## 06. 集合\n",
        "\"paraparaparadise\"と\"paragraph\"に含まれる文字bi-gramの集合を，それぞれ, XとYとして求め，XとYの和集合，積集合，差集合を求めよ．さらに，'se'というbi-gramがXおよびYに含まれるかどうかを調べよ．"
      ]
    },
    {
      "cell_type": "code",
      "metadata": {
        "id": "nx-bcGnBeHCb",
        "colab_type": "code",
        "colab": {
          "base_uri": "https://localhost:8080/",
          "height": 102
        },
        "outputId": "93c5a28a-2182-47fc-d483-283bd786db29"
      },
      "source": [
        "word_6_1 = \"paraparaparadise\"\n",
        "word_6_2 = \"paragraph\"\n",
        "target = {\"se\"}\n",
        "\n",
        "X = generate_ngram(word_6_1, mode=\"char\")\n",
        "Y = generate_ngram(word_6_2, mode=\"char\")\n",
        "\n",
        "xy_sum = set(X) | set(Y)\n",
        "xy_inter = set(X) & set(Y)\n",
        "xy_diff = set(X) ^ set(Y)\n",
        "print('XとYの和集合は ', xy_sum)\n",
        "print('XとYの積集合は ', xy_inter)\n",
        "print('XとYの差集合は ', xy_diff)\n",
        "print(target, ' => X: ', target <= set(X))\n",
        "print(target, ' => Y: ', target <= set(Y))\n"
      ],
      "execution_count": 28,
      "outputs": [
        {
          "output_type": "stream",
          "text": [
            "XとYの和集合は  {'se', 'ra', 'di', 'h', 'pa', 'ph', 'ag', 'gr', 'ap', 'e', 'is', 'ad', 'ar'}\n",
            "XとYの積集合は  {'pa', 'ra', 'ap', 'ar'}\n",
            "XとYの差集合は  {'se', 'di', 'h', 'ph', 'gr', 'e', 'is', 'ad', 'ag'}\n",
            "{'se'}  => X:  True\n",
            "{'se'}  => Y:  False\n"
          ],
          "name": "stdout"
        }
      ]
    },
    {
      "cell_type": "markdown",
      "metadata": {
        "id": "nkhiFdTIeGhQ",
        "colab_type": "text"
      },
      "source": [
        "## 07. テンプレートによる文生成\n",
        "引数x, y, zを受け取り「x時のyはz」という文字列を返す関数を実装せよ．さらに，x=12, y=\"気温\", z=22.4として，実行結果を確認せよ．"
      ]
    },
    {
      "cell_type": "code",
      "metadata": {
        "id": "xHLGvoY7eHj-",
        "colab_type": "code",
        "colab": {
          "base_uri": "https://localhost:8080/",
          "height": 34
        },
        "outputId": "71b31fbf-49f6-407a-be6e-bbb1d32d2bf6"
      },
      "source": [
        "def generate_template(x, y, z):\n",
        "    return '{0}時の{1}は{2}'.format(x, y, z)\n",
        "  \n",
        "generate_template(12, \"気温\", 22.4)"
      ],
      "execution_count": 29,
      "outputs": [
        {
          "output_type": "stream",
          "text": [
            "12時の気温は22.4\n"
          ],
          "name": "stdout"
        }
      ]
    },
    {
      "cell_type": "markdown",
      "metadata": {
        "id": "FUcYgPnMa01N",
        "colab_type": "text"
      },
      "source": [
        "## 08. 暗号文\n",
        "与えられた文字列の各文字を，以下の仕様で変換する関数cipherを実装せよ．\n",
        "\n",
        "* 英小文字ならば(219 - 文字コード)の文字に置換\n",
        "* その他の文字はそのまま出力\n",
        "\n",
        "この関数を用い，英語のメッセージを暗号化・復号化せよ．"
      ]
    },
    {
      "cell_type": "code",
      "metadata": {
        "id": "JWNwN6TMa0jw",
        "colab_type": "code",
        "colab": {
          "base_uri": "https://localhost:8080/",
          "height": 34
        },
        "outputId": "739b930c-43a0-4855-e21f-321491f9eb77"
      },
      "source": [
        "def cipher(word):\n",
        "    replaced_word = list()\n",
        "    for ind in range(len(word)):\n",
        "        if word[ind].islower():\n",
        "            replaced_word.append(chr(219 - ord(word[ind])))\n",
        "        else:\n",
        "            replaced_word.append(word[ind])\n",
        "    return \"\".join(replaced_word)\n",
        "\n",
        "cipher(\"12werT\")"
      ],
      "execution_count": 36,
      "outputs": [
        {
          "output_type": "stream",
          "text": [
            "12dviT\n"
          ],
          "name": "stdout"
        }
      ]
    },
    {
      "cell_type": "markdown",
      "metadata": {
        "id": "ifiBs4P_dQvC",
        "colab_type": "text"
      },
      "source": [
        "## 09. Typoglycemia\n",
        "スペースで区切られた単語列に対して，各単語の先頭と末尾の文字は残し，それ以外の文字の順序をランダムに並び替えるプログラムを作成せよ．ただし，長さが４以下の単語は並び替えないこととする．適当な英語の文（例えば\"I couldn't believe that I could actually understand what I was reading : the phenomenal power of the human mind .\"）を与え，その実行結果を確認せよ．"
      ]
    },
    {
      "cell_type": "code",
      "metadata": {
        "id": "MHw3CZbWdNuM",
        "colab_type": "code",
        "colab": {
          "base_uri": "https://localhost:8080/",
          "height": 34
        },
        "outputId": "6c702e44-f208-4357-a6fe-a9e02e51860d"
      },
      "source": [
        "def random_sentense(sentense):\n",
        "    random_list = list()\n",
        "    snt_list = sentense.split(\" \")\n",
        "    random_list.append(snt_list.pop(0))\n",
        "    random_list.append(snt_list.pop(-1))\n",
        "    while snt_list:\n",
        "        random_list.append(snt_list.pop())\n",
        "    return random_list\n",
        "\n",
        "sentense_9 = \"I couldn't believe that I could actually understand what I was reading : the phenomenal power of the human mind .\"\n",
        "random_sentense(sentense_9)\n"
      ],
      "execution_count": 37,
      "outputs": [
        {
          "output_type": "stream",
          "text": [
            "['I', '.', 'mind', 'human', 'the', 'of', 'power', 'phenomenal', 'the', ':', 'reading', 'was', 'I', 'what', 'understand', 'actually', 'could', 'I', 'that', 'believe', \"couldn't\"]\n"
          ],
          "name": "stdout"
        }
      ]
    }
  ]
}