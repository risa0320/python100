{
  "nbformat": 4,
  "nbformat_minor": 0,
  "metadata": {
    "colab": {
      "name": "50_59.ipynb",
      "provenance": [],
      "collapsed_sections": [],
      "toc_visible": true
    },
    "kernelspec": {
      "name": "python3",
      "display_name": "Python 3"
    }
  },
  "cells": [
    {
      "cell_type": "code",
      "metadata": {
        "id": "AhXYUig2tU-5",
        "colab_type": "code",
        "colab": {}
      },
      "source": [
        "from google.colab import drive\n",
        "drive.mount('/content/drive')"
      ],
      "execution_count": 0,
      "outputs": []
    },
    {
      "cell_type": "code",
      "metadata": {
        "id": "zM1QDU-Qc2EY",
        "colab_type": "code",
        "colab": {}
      },
      "source": [
        "! pip install stemming"
      ],
      "execution_count": 0,
      "outputs": []
    },
    {
      "cell_type": "markdown",
      "metadata": {
        "id": "heGVRRr3YUGj",
        "colab_type": "text"
      },
      "source": [
        "# 第6章: 英語テキストの処理\n",
        "英語のテキスト（nlp.txt）に対して，以下の処理を実行せよ．\n",
        "\n",
        "## 50. 文区切り\n",
        "(. or ; or : or ? or !) → 空白文字 → 英大文字というパターンを文の区切りと見なし，入力された文書を1行1文の形式で出力せよ．"
      ]
    },
    {
      "cell_type": "code",
      "metadata": {
        "id": "819BC-byZtLy",
        "colab_type": "code",
        "colab": {
          "base_uri": "https://localhost:8080/",
          "height": 1000
        },
        "outputId": "cfd8ab6d-e064-47c9-81f9-2b79415182a5"
      },
      "source": [
        "import re\n",
        "\n",
        "nlp_file = \"/content/drive/My Drive/Colab Notebooks/Python100本ノック/nlp.txt\"\n",
        "with open(nlp_file) as f:\n",
        "    data = f.read()\n",
        "    for line in re.split('[.;:?!] [A-Z]', data):\n",
        "        print(line)"
      ],
      "execution_count": 2,
      "outputs": [
        {
          "output_type": "stream",
          "text": [
            "Natural language processing\n",
            "From Wikipedia, the free encyclopedia\n",
            "\n",
            "Natural language processing (NLP) is a field of computer science, artificial intelligence, and linguistics concerned with the interactions between computers and human (natural) languages\n",
            "s such, NLP is related to the area of humani-computer interaction\n",
            "any challenges in NLP involve natural language understanding, that is, enabling computers to derive meaning from human or natural language input, and others involve natural language generation.\n",
            "\n",
            "History\n",
            "\n",
            "The history of NLP generally starts in the 1950s, although work can be found from earlier periods\n",
            "n 1950, Alan Turing published an article titled \"Computing Machinery and Intelligence\" which proposed what is now called the Turing test as a criterion of intelligence.\n",
            "\n",
            "The Georgetown experiment in 1954 involved fully automatic translation of more than sixty Russian sentences into English\n",
            "he authors claimed that within three or five years, machine translation would be a solved problem\n",
            "owever, real progress was much slower, and after the ALPAC report in 1966, which found that ten year long research had failed to fulfill the expectations, funding for machine translation was dramatically reduced\n",
            "ittle further research in machine translation was conducted until the late 1980s, when the first statistical machine translation systems were developed.\n",
            "\n",
            "Some notably successful NLP systems developed in the 1960s were SHRDLU, a natural language system working in restricted \"blocks worlds\" with restricted vocabularies, and ELIZA, a simulation of a Rogerian psychotherapist, written by Joseph Weizenbaum between 1964 to 1966\n",
            "sing almost no information about human thought or emotion, ELIZA sometimes provided a startlingly human-like interaction\n",
            "hen the \"patient\" exceeded the very small knowledge base, ELIZA might provide a generic response, for example, responding to \"My head hurts\" with \"Why do you say your head hurts?\".\n",
            "\n",
            "During the 1970s many programmers began to write 'conceptual ontologies', which structured real-world information into computer-understandable data\n",
            "xamples are MARGIE (Schank, 1975), SAM (Cullingford, 1978), PAM (Wilensky, 1978), TaleSpin (Meehan, 1976), QUALM (Lehnert, 1977), Politics (Carbonell, 1979), and Plot Units (Lehnert 1981)\n",
            "uring this time, many chatterbots were written including PARRY, Racter, and Jabberwacky.\n",
            "\n",
            "Up to the 1980s, most NLP systems were based on complex sets of hand-written rules\n",
            "tarting in the late 1980s, however, there was a revolution in NLP with the introduction of machine learning algorithms for language processing\n",
            "his was due to both the steady increase in computational power resulting from Moore's Law and the gradual lessening of the dominance of Chomskyan theories of linguistics (e.g. transformational grammar), whose theoretical underpinnings discouraged the sort of corpus linguistics that underlies the machine-learning approach to language processing\n",
            "ome of the earliest-used machine learning algorithms, such as decision trees, produced systems of hard if-then rules similar to existing hand-written rules\n",
            "owever, Part of speech tagging introduced the use of Hidden Markov Models to NLP, and increasingly, research has focused on statistical models, which make soft, probabilistic decisions based on attaching real-valued weights to the features making up the input data\n",
            "he cache language models upon which many speech recognition systems now rely are examples of such statistical models\n",
            "uch models are generally more robust when given unfamiliar input, especially input that contains errors (as is very common for real-world data), and produce more reliable results when integrated into a larger system comprising multiple subtasks.\n",
            "\n",
            "Many of the notable early successes occurred in the field of machine translation, due especially to work at IBM Research, where successively more complicated statistical models were developed\n",
            "hese systems were able to take advantage of existing multilingual textual corpora that had been produced by the Parliament of Canada and the European Union as a result of laws calling for the translation of all governmental proceedings into all official languages of the corresponding systems of government\n",
            "owever, most other systems depended on corpora specifically developed for the tasks implemented by these systems, which was (and often continues to be) a major limitation in the success of these systems\n",
            "s a result, a great deal of research has gone into methods of more effectively learning from limited amounts of data.\n",
            "\n",
            "Recent research has increasingly focused on unsupervised and semi-supervised learning algorithms\n",
            "uch algorithms are able to learn from data that has not been hand-annotated with the desired answers, or using a combination of annotated and non-annotated data\n",
            "enerally, this task is much more difficult than supervised learning, and typically produces less accurate results for a given amount of input data\n",
            "owever, there is an enormous amount of non-annotated data available (including, among other things, the entire content of the World Wide Web), which can often make up for the inferior results.\n",
            "\n",
            "NLP using machine learning\n",
            "\n",
            "Modern NLP algorithms are based on machine learning, especially statistical machine learning\n",
            "he paradigm of machine learning is different from that of most prior attempts at language processing\n",
            "rior implementations of language-processing tasks typically involved the direct hand coding of large sets of rules\n",
            "he machine-learning paradigm calls instead for using general learning algorithms - often, although not always, grounded in statistical inference - to automatically learn such rules through the analysis of large corpora of typical real-world examples\n",
            " corpus (plural, \"corpora\") is a set of documents (or sometimes, individual sentences) that have been hand-annotated with the correct values to be learned.\n",
            "\n",
            "Many different classes of machine learning algorithms have been applied to NLP tasks\n",
            "hese algorithms take as input a large set of \"features\" that are generated from the input data\n",
            "ome of the earliest-used algorithms, such as decision trees, produced systems of hard if-then rules similar to the systems of hand-written rules that were then common\n",
            "ncreasingly, however, research has focused on statistical models, which make soft, probabilistic decisions based on attaching real-valued weights to each input feature\n",
            "uch models have the advantage that they can express the relative certainty of many different possible answers rather than only one, producing more reliable results when such a model is included as a component of a larger system.\n",
            "\n",
            "Systems based on machine-learning algorithms have many advantages over hand-produced rules:\n",
            "\n",
            "The learning procedures used during machine learning automatically focus on the most common cases, whereas when writing rules by hand it is often not obvious at all where the effort should be directed.\n",
            "Automatic learning procedures can make use of statistical inference algorithms to produce models that are robust to unfamiliar input (e.g. containing words or structures that have not been seen before) and to erroneous input (e.g. with misspelled words or words accidentally omitted)\n",
            "enerally, handling such input gracefully with hand-written rules -- or more generally, creating systems of hand-written rules that make soft decisions -- extremely difficult, error-prone and time-consuming.\n",
            "Systems based on automatically learning the rules can be made more accurate simply by supplying more input data\n",
            "owever, systems based on hand-written rules can only be made more accurate by increasing the complexity of the rules, which is a much more difficult task\n",
            "n particular, there is a limit to the complexity of systems based on hand-crafted rules, beyond which the systems become more and more unmanageable\n",
            "owever, creating more data to input to machine-learning systems simply requires a corresponding increase in the number of man-hours worked, generally without significant increases in the complexity of the annotation process.\n",
            "The subfield of NLP devoted to learning approaches is known as Natural Language Learning (NLL) and its conference CoNLL and peak body SIGNLL are sponsored by ACL, recognizing also their links with Computational Linguistics and Language Acquisition\n",
            "hen the aims of computational language learning research is to understand more about human language acquisition, or psycholinguistics, NLL overlaps into the related field of Computational Psycholinguistics.\n",
            "\n",
            "\n"
          ],
          "name": "stdout"
        }
      ]
    },
    {
      "cell_type": "markdown",
      "metadata": {
        "id": "bfQ5dQjib6El",
        "colab_type": "text"
      },
      "source": [
        "## 51. 単語の切り出し\n",
        "空白を単語の区切りとみなし，50の出力を入力として受け取り，1行1単語の形式で出力せよ．ただし，文の終端では空行を出力せよ．"
      ]
    },
    {
      "cell_type": "code",
      "metadata": {
        "id": "LdnHCaesb532",
        "colab_type": "code",
        "colab": {
          "base_uri": "https://localhost:8080/",
          "height": 612
        },
        "outputId": "dc537d41-d7a1-411c-937a-4ec7e63ab575"
      },
      "source": [
        "import re\n",
        "\n",
        "nlp_file = \"/content/drive/My Drive/Colab Notebooks/Python100本ノック/nlp.txt\"\n",
        "with open(nlp_file) as f:\n",
        "    data = f.read()\n",
        "    for line in re.split('[.;:?!] [A-Z]', data):\n",
        "        for word in line.split(\" \"):\n",
        "            print(word)\n",
        "        print(\"\\n\")\n",
        "        # 長いので1行分だけ出力\n",
        "        break"
      ],
      "execution_count": 4,
      "outputs": [
        {
          "output_type": "stream",
          "text": [
            "Natural\n",
            "language\n",
            "processing\n",
            "From\n",
            "Wikipedia,\n",
            "the\n",
            "free\n",
            "encyclopedia\n",
            "\n",
            "Natural\n",
            "language\n",
            "processing\n",
            "(NLP)\n",
            "is\n",
            "a\n",
            "field\n",
            "of\n",
            "computer\n",
            "science,\n",
            "artificial\n",
            "intelligence,\n",
            "and\n",
            "linguistics\n",
            "concerned\n",
            "with\n",
            "the\n",
            "interactions\n",
            "between\n",
            "computers\n",
            "and\n",
            "human\n",
            "(natural)\n",
            "languages\n",
            "\n",
            "\n"
          ],
          "name": "stdout"
        }
      ]
    },
    {
      "cell_type": "markdown",
      "metadata": {
        "id": "lNziqBlMcjWJ",
        "colab_type": "text"
      },
      "source": [
        "## 52. ステミング\n",
        "51の出力を入力として受け取り，Porterのステミングアルゴリズムを適用し，単語と語幹をタブ区切り形式で出力せよ． Pythonでは，Porterのステミングアルゴリズムの実装としてstemmingモジュールを利用するとよい．"
      ]
    },
    {
      "cell_type": "code",
      "metadata": {
        "id": "srKBaD-ncjMS",
        "colab_type": "code",
        "colab": {
          "base_uri": "https://localhost:8080/",
          "height": 663
        },
        "outputId": "65e8b20b-ea83-4b0e-db06-82dc8e67241c"
      },
      "source": [
        "from nltk.stem.porter import PorterStemmer as ps\n",
        "\n",
        "import re\n",
        "\n",
        "nlp_file = \"/content/drive/My Drive/Colab Notebooks/Python100本ノック/nlp.txt\"\n",
        "with open(nlp_file) as f:\n",
        "    data = f.read()\n",
        "    porter = ps()\n",
        "    for line in re.split('[.;:?!] [A-Z]', data):\n",
        "        for word in line.split(\" \"):\n",
        "            print(\"{}\\t{}\".format(word, porter.stem(word)))\n",
        "        print(\"\\n\")\n",
        "        # 長いので1行分だけ出力\n",
        "        break"
      ],
      "execution_count": 7,
      "outputs": [
        {
          "output_type": "stream",
          "text": [
            "Natural\tnatur\n",
            "language\tlanguag\n",
            "processing\n",
            "From\tprocessing\n",
            "from\n",
            "Wikipedia,\twikipedia,\n",
            "the\tthe\n",
            "free\tfree\n",
            "encyclopedia\n",
            "\n",
            "Natural\tencyclopedia\n",
            "\n",
            "natur\n",
            "language\tlanguag\n",
            "processing\tprocess\n",
            "(NLP)\t(nlp)\n",
            "is\tis\n",
            "a\ta\n",
            "field\tfield\n",
            "of\tof\n",
            "computer\tcomput\n",
            "science,\tscience,\n",
            "artificial\tartifici\n",
            "intelligence,\tintelligence,\n",
            "and\tand\n",
            "linguistics\tlinguist\n",
            "concerned\tconcern\n",
            "with\twith\n",
            "the\tthe\n",
            "interactions\tinteract\n",
            "between\tbetween\n",
            "computers\tcomput\n",
            "and\tand\n",
            "human\thuman\n",
            "(natural)\t(natural)\n",
            "languages\tlanguag\n",
            "\n",
            "\n"
          ],
          "name": "stdout"
        }
      ]
    },
    {
      "cell_type": "markdown",
      "metadata": {
        "id": "Vt0bOvMmd4ea",
        "colab_type": "text"
      },
      "source": [
        "## 53. Tokenization\n",
        "Stanford Core NLPを用い，入力テキストの解析結果をXML形式で得よ．また，このXMLファイルを読み込み，入力テキストを1行1単語の形式で出力せよ．"
      ]
    },
    {
      "cell_type": "code",
      "metadata": {
        "id": "g2ivF0NMtl_5",
        "colab_type": "code",
        "colab": {}
      },
      "source": [
        "!apt install openjdk-8-jre\n",
        "!java --version"
      ],
      "execution_count": 0,
      "outputs": []
    },
    {
      "cell_type": "code",
      "metadata": {
        "id": "Mdz4JlnihePU",
        "colab_type": "code",
        "colab": {}
      },
      "source": [
        "URL=\"http://nlp.stanford.edu/software/stanford-corenlp-full-2013-06-20.zip\"\n",
        "FILE_NAME=\"stanford-corenlp-full-2013-06-20.zip\"\n",
        "! curl -L -O $URL\n",
        "! unzip $FILE_NAME -d /usr/local/lib/\n",
        "! pip install corenlp-python "
      ],
      "execution_count": 0,
      "outputs": []
    },
    {
      "cell_type": "code",
      "metadata": {
        "id": "5NrkFqvRz6Of",
        "colab_type": "code",
        "colab": {}
      },
      "source": [
        "!echo \"annotators = tokenize, ssplit\" > user.properties\n",
        "# https://qiita.com/yubessy/items/1869ac2c66f4e76cd6c5\n",
        "!cp user.properties /usr/local/lib/stanford-corenlp-full-2013-06-20/"
      ],
      "execution_count": 0,
      "outputs": []
    },
    {
      "cell_type": "code",
      "metadata": {
        "id": "GxCUCqEx2smj",
        "colab_type": "code",
        "colab": {
          "base_uri": "https://localhost:8080/",
          "height": 187
        },
        "outputId": "5e841643-6d3c-4af5-e13f-b0252db2fe57"
      },
      "source": [
        "# XMLの作成\n",
        "!java -cp \"/usr/local/lib/stanford-corenlp-full-2013-06-20/*\" -Xmx3g edu.stanford.nlp.pipeline.StanfordCoreNLP -annotators tokenize,ssplit -file /content/nlp.txt"
      ],
      "execution_count": 24,
      "outputs": [
        {
          "output_type": "stream",
          "text": [
            "Adding annotator tokenize\n",
            "Adding annotator ssplit\n",
            "\n",
            "Processing file /content/nlp.txt ... writing to /content/nlp.txt.xml [0.214 seconds]\n",
            "Annotation pipeline timing information:\n",
            "PTBTokenizerAnnotator: 0.1 sec.\n",
            "WordsToSentencesAnnotator: 0.0 sec.\n",
            "TOTAL: 0.1 sec. for 1452 tokens at 10755.6 tokens/sec.\n",
            "Pipeline setup: 0.1 sec.\n",
            "Total time for StanfordCoreNLP pipeline: 0.5 sec.\n"
          ],
          "name": "stdout"
        }
      ]
    },
    {
      "cell_type": "code",
      "metadata": {
        "id": "wQThXpAZx681",
        "colab_type": "code",
        "colab": {
          "base_uri": "https://localhost:8080/",
          "height": 54
        },
        "outputId": "bd623579-77e0-4cfb-d8ce-93d6a70cfa75"
      },
      "source": [
        "import json\n",
        "import corenlp\n",
        "\n",
        "# パーサの生成\n",
        "corenlp_dir = \"/usr/local/lib/stanford-corenlp-full-2013-06-20/\"\n",
        "properties_file = \"./user.properties\" \n",
        "parser = corenlp.StanfordCoreNLP(corenlp_path=corenlp_dir, properties=properties_file)\n",
        "\n",
        "# パースして結果をpretty print\n",
        "#result_json = json.loads(parser.parse(\"I am Alice.\"))\n",
        "result_json = parser.parse(\"I am Alice.\")\n",
        "print(result_json)"
      ],
      "execution_count": 23,
      "outputs": [
        {
          "output_type": "stream",
          "text": [
            "{\"sentences\": [{\"words\": [[\"I\", {\"CharacterOffsetBegin\": \"0\", \"CharacterOffsetEnd\": \"1\"}], [\"am\", {\"CharacterOffsetBegin\": \"2\", \"CharacterOffsetEnd\": \"4\"}], [\"Alice\", {\"CharacterOffsetBegin\": \"5\", \"CharacterOffsetEnd\": \"10\"}], [\".\", {\"CharacterOffsetBegin\": \"10\", \"CharacterOffsetEnd\": \"11\"}]], \"parsetree\": [], \"dependencies\": [], \"indexeddependencies\": [], \"text\": \"I am Alice.\"}]}\n"
          ],
          "name": "stdout"
        }
      ]
    },
    {
      "cell_type": "code",
      "metadata": {
        "id": "r-AA9P_muifj",
        "colab_type": "code",
        "colab": {
          "base_uri": "https://localhost:8080/",
          "height": 102
        },
        "outputId": "e9903214-65a3-409a-ace2-89a25d1253f3"
      },
      "source": [
        "import xml.etree.ElementTree as et\n",
        "\n",
        "root = et.parse('nlp.txt.xml')\n",
        "for ind, word in enumerate(root.iter('word')):\n",
        "    if ind > 4:\n",
        "        break\n",
        "    # 多いので5行分だけ出力\n",
        "    print(word.text)"
      ],
      "execution_count": 27,
      "outputs": [
        {
          "output_type": "stream",
          "text": [
            "Natural\n",
            "language\n",
            "processing\n",
            "From\n",
            "Wikipedia\n"
          ],
          "name": "stdout"
        }
      ]
    },
    {
      "cell_type": "markdown",
      "metadata": {
        "id": "tbBvS3R63-G9",
        "colab_type": "text"
      },
      "source": [
        "## 54. 品詞タグ付け\n",
        "Stanford Core NLPの解析結果XMLを読み込み，単語，レンマ，品詞をタブ区切り形式で出力せよ．"
      ]
    },
    {
      "cell_type": "code",
      "metadata": {
        "id": "g4YnqlMb4Rqb",
        "colab_type": "code",
        "colab": {}
      },
      "source": [
        "!echo \"annotators = tokenize, ssplit, pos, lemma\" > user.properties\n",
        "# https://qiita.com/yubessy/items/1869ac2c66f4e76cd6c5\n",
        "!cp user.properties /usr/local/lib/stanford-corenlp-full-2013-06-20/"
      ],
      "execution_count": 0,
      "outputs": []
    },
    {
      "cell_type": "code",
      "metadata": {
        "id": "Qn27ClN24j2R",
        "colab_type": "code",
        "colab": {
          "base_uri": "https://localhost:8080/",
          "height": 292
        },
        "outputId": "292561c1-8f7d-4087-dd2d-52b887ff62d7"
      },
      "source": [
        "# XMLの作成\n",
        "!java -cp \"/usr/local/lib/stanford-corenlp-full-2013-06-20/*\" -Xmx3g edu.stanford.nlp.pipeline.StanfordCoreNLP -annotators tokenize,ssplit,pos,lemma -file /content/nlp.txt"
      ],
      "execution_count": 29,
      "outputs": [
        {
          "output_type": "stream",
          "text": [
            "Adding annotator tokenize\n",
            "Adding annotator ssplit\n",
            "Adding annotator pos\n",
            "Reading POS tagger model from edu/stanford/nlp/models/pos-tagger/english-left3words/english-left3words-distsim.tagger ... done [2.4 sec].\n",
            "Adding annotator lemma\n",
            "\n",
            "Processing file /content/nlp.txt ... writing to /content/nlp.txt.xml [0.179 seconds]\n",
            "Annotation pipeline timing information:\n",
            "PTBTokenizerAnnotator: 0.2 sec.\n",
            "WordsToSentencesAnnotator: 0.0 sec.\n",
            "POSTaggerAnnotator: 0.2 sec.\n",
            "MorphaAnnotator: 0.1 sec.\n",
            "TOTAL: 0.5 sec. for 1452 tokens at 2709.0 tokens/sec.\n",
            "Pipeline setup: 2.4 sec.\n",
            "Total time for StanfordCoreNLP pipeline: 3.2 sec.\n"
          ],
          "name": "stdout"
        }
      ]
    },
    {
      "cell_type": "code",
      "metadata": {
        "id": "3EkHfG-E5IcR",
        "colab_type": "code",
        "colab": {
          "base_uri": "https://localhost:8080/",
          "height": 34
        },
        "outputId": "def081fe-88a2-4922-da80-d9235826a238"
      },
      "source": [
        "import xml.etree.ElementTree as et\n",
        "\n",
        "root = et.parse('nlp.txt.xml')\n",
        "for word, lemma, pos in zip(root.iter('word'), root.iter(\"lemma\"), root.iter(\"POS\")):\n",
        "    print(\"{}\\t{}\\t{}\".format(word.text, lemma.text, pos.text))\n",
        "    # 量が多いので1単語分のみ\n",
        "    break"
      ],
      "execution_count": 34,
      "outputs": [
        {
          "output_type": "stream",
          "text": [
            "Natural\tnatural\tJJ\n"
          ],
          "name": "stdout"
        }
      ]
    },
    {
      "cell_type": "markdown",
      "metadata": {
        "id": "xOSU0KtQ6dQH",
        "colab_type": "text"
      },
      "source": [
        "## 55. 固有表現抽出\n",
        "入力文中の人名をすべて抜き出せ．"
      ]
    },
    {
      "cell_type": "code",
      "metadata": {
        "id": "-8p0vaKB6rYs",
        "colab_type": "code",
        "colab": {}
      },
      "source": [
        "!echo \"annotators = tokenize, ssplit, pos, lemma, ner\" > user.properties\n",
        "# https://qiita.com/yubessy/items/1869ac2c66f4e76cd6c5\n",
        "!cp user.properties /usr/local/lib/stanford-corenlp-full-2013-06-20/"
      ],
      "execution_count": 0,
      "outputs": []
    },
    {
      "cell_type": "code",
      "metadata": {
        "id": "TvR8whez6x93",
        "colab_type": "code",
        "colab": {
          "base_uri": "https://localhost:8080/",
          "height": 377
        },
        "outputId": "8dad7ff4-2f43-48ae-cd9e-09dc431ffece"
      },
      "source": [
        "# XMLの作成\n",
        "!java -cp \"/usr/local/lib/stanford-corenlp-full-2013-06-20/*\" -Xmx3g edu.stanford.nlp.pipeline.StanfordCoreNLP \\\n",
        "  -annotators tokenize,ssplit,pos,lemma,ner -ner.useSUTime 0 -file /content/nlp.txt"
      ],
      "execution_count": 50,
      "outputs": [
        {
          "output_type": "stream",
          "text": [
            "Adding annotator tokenize\n",
            "Adding annotator ssplit\n",
            "Adding annotator pos\n",
            "Reading POS tagger model from edu/stanford/nlp/models/pos-tagger/english-left3words/english-left3words-distsim.tagger ... done [2.2 sec].\n",
            "Adding annotator lemma\n",
            "Adding annotator ner\n",
            "Loading classifier from edu/stanford/nlp/models/ner/english.all.3class.distsim.crf.ser.gz ... done [3.7 sec].\n",
            "Loading classifier from edu/stanford/nlp/models/ner/english.muc.7class.distsim.crf.ser.gz ... done [2.5 sec].\n",
            "Loading classifier from edu/stanford/nlp/models/ner/english.conll.4class.distsim.crf.ser.gz ... done [2.3 sec].\n",
            "\n",
            "Processing file /content/nlp.txt ... writing to /content/nlp.txt.xml [0.176 seconds]\n",
            "Annotation pipeline timing information:\n",
            "PTBTokenizerAnnotator: 0.1 sec.\n",
            "WordsToSentencesAnnotator: 0.0 sec.\n",
            "POSTaggerAnnotator: 0.2 sec.\n",
            "MorphaAnnotator: 0.1 sec.\n",
            "NERCombinerAnnotator: 1.5 sec.\n",
            "TOTAL: 1.9 sec. for 1452 tokens at 757.0 tokens/sec.\n",
            "Pipeline setup: 11.0 sec.\n",
            "Total time for StanfordCoreNLP pipeline: 13.1 sec.\n"
          ],
          "name": "stdout"
        }
      ]
    },
    {
      "cell_type": "code",
      "metadata": {
        "id": "KnUvwGou67HN",
        "colab_type": "code",
        "colab": {
          "base_uri": "https://localhost:8080/",
          "height": 221
        },
        "outputId": "64d106ef-fae1-4cbc-9bd6-879e4f61a3b6"
      },
      "source": [
        "import xml.etree.ElementTree as et\n",
        "\n",
        "root = et.parse('nlp.txt.xml')\n",
        "for ner, word in zip(root.iter('NER'), root.iter(\"word\")):\n",
        "    # 量が多いので1単語分のみ\n",
        "    if ner.text == \"PERSON\":\n",
        "        print(word.text)"
      ],
      "execution_count": 58,
      "outputs": [
        {
          "output_type": "stream",
          "text": [
            "Alan\n",
            "Turing\n",
            "ELIZA\n",
            "Joseph\n",
            "Weizenbaum\n",
            "Wilensky\n",
            "Meehan\n",
            "Lehnert\n",
            "Carbonell\n",
            "Lehnert\n",
            "Jabberwacky\n",
            "Moore\n"
          ],
          "name": "stdout"
        }
      ]
    },
    {
      "cell_type": "markdown",
      "metadata": {
        "id": "C3-ckTOeBxz4",
        "colab_type": "text"
      },
      "source": [
        "## 56. 共参照解析\n",
        "Stanford Core NLPの共参照解析の結果に基づき，文中の参照表現（mention）を代表参照表現（representative mention）に置換せよ．ただし，置換するときは，「代表参照表現（参照表現）」のように，元の参照表現が分かるように配慮せよ．"
      ]
    },
    {
      "cell_type": "code",
      "metadata": {
        "id": "GUZJY_9qCDSQ",
        "colab_type": "code",
        "colab": {}
      },
      "source": [
        "!echo \"annotators = tokenize, ssplit, pos, lemma, ner, parse, dcoref\" > user.properties\n",
        "# https://qiita.com/yubessy/items/1869ac2c66f4e76cd6c5\n",
        "!cp user.properties /usr/local/lib/stanford-corenlp-full-2013-06-20/"
      ],
      "execution_count": 0,
      "outputs": []
    },
    {
      "cell_type": "code",
      "metadata": {
        "id": "Wkt_81jICeU6",
        "colab_type": "code",
        "colab": {
          "base_uri": "https://localhost:8080/",
          "height": 513
        },
        "outputId": "4bed03d1-b66f-4f18-9640-7b7bb6f9a7fc"
      },
      "source": [
        "# XMLの作成\n",
        "!java -cp \"/usr/local/lib/stanford-corenlp-full-2016-10-31/*\" -Xmx5g edu.stanford.nlp.pipeline.StanfordCoreNLP \\\n",
        "  -annotators tokenize,ssplit,pos,lemma,ner,parse,dcoref -ner.useSUTime 0 -file /content/nlp.txt"
      ],
      "execution_count": 71,
      "outputs": [
        {
          "output_type": "stream",
          "text": [
            "[main] INFO edu.stanford.nlp.pipeline.StanfordCoreNLP - Adding annotator tokenize\n",
            "[main] INFO edu.stanford.nlp.pipeline.TokenizerAnnotator - No tokenizer type provided. Defaulting to PTBTokenizer.\n",
            "[main] INFO edu.stanford.nlp.pipeline.StanfordCoreNLP - Adding annotator ssplit\n",
            "[main] INFO edu.stanford.nlp.pipeline.StanfordCoreNLP - Adding annotator pos\n",
            "[main] INFO edu.stanford.nlp.tagger.maxent.MaxentTagger - Loading POS tagger from edu/stanford/nlp/models/pos-tagger/english-left3words/english-left3words-distsim.tagger ... done [2.2 sec].\n",
            "[main] INFO edu.stanford.nlp.pipeline.StanfordCoreNLP - Adding annotator lemma\n",
            "[main] INFO edu.stanford.nlp.pipeline.StanfordCoreNLP - Adding annotator ner\n",
            "[main] INFO edu.stanford.nlp.ie.AbstractSequenceClassifier - Loading classifier from edu/stanford/nlp/models/ner/english.all.3class.distsim.crf.ser.gz ... done [2.5 sec].\n",
            "[main] INFO edu.stanford.nlp.ie.AbstractSequenceClassifier - Loading classifier from edu/stanford/nlp/models/ner/english.muc.7class.distsim.crf.ser.gz ... done [1.0 sec].\n",
            "[main] INFO edu.stanford.nlp.ie.AbstractSequenceClassifier - Loading classifier from edu/stanford/nlp/models/ner/english.conll.4class.distsim.crf.ser.gz ... done [1.0 sec].\n",
            "[main] INFO edu.stanford.nlp.pipeline.StanfordCoreNLP - Adding annotator parse\n",
            "[main] INFO edu.stanford.nlp.parser.common.ParserGrammar - Loading parser from serialized file edu/stanford/nlp/models/lexparser/englishPCFG.ser.gz ... done [0.9 sec].\n",
            "[main] INFO edu.stanford.nlp.pipeline.StanfordCoreNLP - Adding annotator dcoref\n",
            "\n",
            "Processing file /content/nlp.txt ... writing to /content/nlp.txt.xml\n",
            "Annotating file /content/nlp.txt ... done [22.4 sec].\n",
            "\n",
            "Annotation pipeline timing information:\n",
            "TokenizerAnnotator: 0.1 sec.\n",
            "WordsToSentencesAnnotator: 0.0 sec.\n",
            "POSTaggerAnnotator: 0.3 sec.\n",
            "MorphaAnnotator: 0.1 sec.\n",
            "NERCombinerAnnotator: 0.9 sec.\n",
            "ParserAnnotator: 16.7 sec.\n",
            "DeterministicCorefAnnotator: 4.2 sec.\n",
            "TOTAL: 22.4 sec. for 1452 tokens at 65.0 tokens/sec.\n",
            "Pipeline setup: 10.4 sec.\n",
            "Total time for StanfordCoreNLP pipeline: 33.1 sec.\n"
          ],
          "name": "stdout"
        }
      ]
    },
    {
      "cell_type": "code",
      "metadata": {
        "id": "YsEJO0d7FOf9",
        "colab_type": "code",
        "colab": {}
      },
      "source": [
        "import xml.etree.ElementTree as et\n",
        "\n",
        "root = et.parse('nlp.txt.xml')\n",
        "for coref in root.iter('coreferene'):\n",
        "    mention = coref.findall(\"mention\")\n",
        "    represent = coref.find(\"mention[@representative=\"true\"]\")\n",
        "#for ner, word in zip(root.iter('NER'), root.iter(\"word\")):\n",
        "#    # 量が多いので1単語分のみ\n",
        "#    if ner.text == \"PERSON\":\n",
        "#        print(word.text)"
      ],
      "execution_count": 0,
      "outputs": []
    },
    {
      "cell_type": "code",
      "metadata": {
        "id": "eAMG9c7qd4Rl",
        "colab_type": "code",
        "colab": {}
      },
      "source": [
        "from nltk.stem.porter import PorterStemmer as ps\n",
        "\n",
        "import re\n",
        "\n",
        "nlp_file = \"/content/drive/My Drive/Colab Notebooks/Python100本ノック/nlp.txt\"\n",
        "with open(nlp_file) as f:\n",
        "    data = f.read()\n",
        "    porter = ps()\n",
        "    for line in re.split('[.;:?!] [A-Z]', data):\n",
        "        for word in line.split(\" \"):\n",
        "            print(\"{}\\t{}\".format(word, porter.stem(word)))\n",
        "        print(\"\\n\")\n",
        "        # 長いので1行分だけ出力\n",
        "        break"
      ],
      "execution_count": 0,
      "outputs": []
    }
  ]
}