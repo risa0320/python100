{
  "nbformat": 4,
  "nbformat_minor": 0,
  "metadata": {
    "colab": {
      "name": "60_69.ipynb",
      "provenance": [],
      "collapsed_sections": [],
      "toc_visible": true
    },
    "kernelspec": {
      "name": "python3",
      "display_name": "Python 3"
    }
  },
  "cells": [
    {
      "cell_type": "code",
      "metadata": {
        "id": "AhXYUig2tU-5",
        "colab_type": "code",
        "colab": {}
      },
      "source": [
        "from google.colab import drive\n",
        "drive.mount('/content/drive')"
      ],
      "execution_count": 0,
      "outputs": []
    },
    {
      "cell_type": "code",
      "metadata": {
        "id": "MM7DhHbJaZ6B",
        "colab_type": "code",
        "colab": {
          "base_uri": "https://localhost:8080/",
          "height": 68
        },
        "outputId": "73cbdad6-e2eb-4843-cad5-39b833d51356"
      },
      "source": [
        "!curl -O http://www.cl.ecei.tohoku.ac.jp/nlp100/data/artist.json.gz"
      ],
      "execution_count": 12,
      "outputs": [
        {
          "output_type": "stream",
          "text": [
            "  % Total    % Received % Xferd  Average Speed   Time    Time     Time  Current\n",
            "                                 Dload  Upload   Total   Spent    Left  Speed\n",
            "100 46.9M  100 46.9M    0     0  6890k      0  0:00:06  0:00:06 --:--:-- 9972k\n"
          ],
          "name": "stdout"
        }
      ]
    },
    {
      "cell_type": "markdown",
      "metadata": {
        "id": "heGVRRr3YUGj",
        "colab_type": "text"
      },
      "source": [
        "# 第7章: データベース\n",
        "artist.json.gzは，オープンな音楽データベースMusicBrainzの中で，アーティストに関するものをJSON形式に変換し，gzip形式で圧縮したファイルである．このファイルには，1アーティストに関する情報が1行にJSON形式で格納されている．JSON形式の概要は以下の通りである．\n",
        "(グラフ省略)\n",
        "artist.json.gzのデータをKey-Value-Store (KVS) およびドキュメント志向型データベースに格納・検索することを考える．KVSとしては，LevelDB，Redis，KyotoCabinet等を用いよ．ドキュメント志向型データベースとして，MongoDBを採用したが，CouchDBやRethinkDB等を用いてもよい．\n",
        "\n",
        "## 60. KVSの構築\n",
        "Key-Value-Store (KVS) を用い，アーティスト名（name）から活動場所（area）を検索するためのデータベースを構築せよ．"
      ]
    },
    {
      "cell_type": "code",
      "metadata": {
        "id": "iBZ7Q1zu3Xgg",
        "colab_type": "code",
        "colab": {}
      },
      "source": [
        "# https://qiita.com/KurosawaTsuyoshi/items/f8719bf7c3a10d22a921#%E3%82%BD%E3%83%BC%E3%82%B9%E3%81%8B%E3%82%89%E3%82%A4%E3%83%B3%E3%82%B9%E3%83%88%E3%83%BC%E3%83%AB%E3%81%99%E3%82%8B%E5%A0%B4%E5%90%88\n",
        "# Redis install\n",
        "!wget http://download.redis.io/releases/redis-3.0.7.tar.gz\n",
        "!tar xzf redis-3.0.7.tar.gz\n",
        "!cd redis-3.0.7 && make && make install\n",
        "# add Redis user\n",
        "!groupadd redis\n",
        "!useradd -s /sbin/nologin -M -g redis redis\n",
        "# create setting dir\n",
        "!mkdir /etc/redis /var/run/redis /var/log/redis\n",
        "!chmod 755 /etc/redis /var/run/redis /var/log/redis\n",
        "!chown redis:redis /etc/redis /var/run/redis /var/log/redis"
      ],
      "execution_count": 0,
      "outputs": []
    },
    {
      "cell_type": "code",
      "metadata": {
        "id": "GyD8LAg-4J5I",
        "colab_type": "code",
        "colab": {}
      },
      "source": [
        "# setting file\n",
        "!cp -p redis_init_script /etc/init.d/redis\n",
        "!chmod 700 /etc/init.d/redis\n",
        "!cp -p 6379.conf /etc/redis/6379.conf\n",
        "!chmod 700 /etc/redis/6379.conf"
      ],
      "execution_count": 0,
      "outputs": []
    },
    {
      "cell_type": "code",
      "metadata": {
        "id": "9LkAn3ol6N6a",
        "colab_type": "code",
        "colab": {
          "base_uri": "https://localhost:8080/",
          "height": 34
        },
        "outputId": "4fa90482-b431-40fb-f33f-6726d0f79d85"
      },
      "source": [
        "# Redis run\n",
        "!/etc/init.d/redis start"
      ],
      "execution_count": 3,
      "outputs": [
        {
          "output_type": "stream",
          "text": [
            "Starting Redis server...\n"
          ],
          "name": "stdout"
        }
      ]
    },
    {
      "cell_type": "code",
      "metadata": {
        "id": "0HhA8tpq4VeD",
        "colab_type": "code",
        "colab": {
          "base_uri": "https://localhost:8080/",
          "height": 34
        },
        "outputId": "82168ec7-dd9a-452a-ed12-4031cfd985d7"
      },
      "source": [
        "# check runing Redis.d\n",
        "!ps -e | grep redis"
      ],
      "execution_count": 6,
      "outputs": [
        {
          "output_type": "stream",
          "text": [
            "   3125 ?        00:00:00 redis-server\n"
          ],
          "name": "stdout"
        }
      ]
    },
    {
      "cell_type": "code",
      "metadata": {
        "id": "kW7ZySlK4VWT",
        "colab_type": "code",
        "colab": {}
      },
      "source": [
        "!pip install redis\n",
        "# https://redis-py.readthedocs.io/en/latest/"
      ],
      "execution_count": 0,
      "outputs": []
    },
    {
      "cell_type": "code",
      "metadata": {
        "id": "glLnkifI4VSf",
        "colab_type": "code",
        "colab": {
          "base_uri": "https://localhost:8080/",
          "height": 34
        },
        "outputId": "782b106c-10de-4303-9c5e-8f24a0b1ac05"
      },
      "source": [
        "\n",
        "import redis\n",
        "\n",
        "import gzip\n",
        "import json\n",
        "\n",
        "\n",
        "class KVS(object):\n",
        "\n",
        "    def __init__(self):\n",
        "        self.db = None\n",
        "\n",
        "class RedisOperator(KVS):\n",
        "\n",
        "    def __init__(self):\n",
        "        self.init_redis()\n",
        "\n",
        "    def init_redis(self):\n",
        "        self.db = redis.StrictRedis(password=\"hoge\")\n",
        "\n",
        "    def set_data(self, key, value):\n",
        "        if type(key) == list:\n",
        "            self.db.rpush(key, value)\n",
        "        else:\n",
        "            self.db.set(key, value)\n",
        "\n",
        "    def load_data_from_gzip_json_file(self, json_file_path):\n",
        "        with gzip.open(json_file_path, 'r') as f:\n",
        "            data = f.readline()\n",
        "            while data:\n",
        "                obj = json.loads(data)\n",
        "                if \"area\" in obj:\n",
        "                    self.set_data(obj[\"name\"], obj[\"area\"])\n",
        "                else:\n",
        "                    self.set_data(obj[\"name\"], \"\")\n",
        "                data = f.readline()\n",
        "        print('load done ...!')\n",
        "\n",
        "\n",
        "gz_json = \"artist.json.gz\"\n",
        "r = RedisOperator()\n",
        "r.load_data_from_gzip_json_file(gz_json)"
      ],
      "execution_count": 31,
      "outputs": [
        {
          "output_type": "stream",
          "text": [
            "load done ...!\n"
          ],
          "name": "stdout"
        }
      ]
    },
    {
      "cell_type": "markdown",
      "metadata": {
        "id": "bfQ5dQjib6El",
        "colab_type": "text"
      },
      "source": [
        "## 61. KVSの検索\n",
        "60で構築したデータベースを用い，特定の（指定された）アーティストの活動場所を取得せよ"
      ]
    },
    {
      "cell_type": "code",
      "metadata": {
        "id": "LdnHCaesb532",
        "colab_type": "code",
        "outputId": "5570299c-1f51-42b6-88da-96463e14a3be",
        "colab": {
          "base_uri": "https://localhost:8080/",
          "height": 51
        }
      },
      "source": [
        "\n",
        "import redis\n",
        "\n",
        "import gzip\n",
        "import json\n",
        "\n",
        "\n",
        "class KVS(object):\n",
        "\n",
        "    def __init__(self):\n",
        "        self.db = None\n",
        "\n",
        "class RedisOperator(KVS):\n",
        "\n",
        "    def __init__(self):\n",
        "        self.init_redis()\n",
        "\n",
        "    def init_redis(self):\n",
        "        self.db = redis.StrictRedis(password=\"hoge\")\n",
        "\n",
        "    def set_data(self, key, value):\n",
        "        if type(key) == list:\n",
        "            self.db.rpush(key, value)\n",
        "        else:\n",
        "            self.db.set(key, value)\n",
        "\n",
        "    def load_data_from_gzip_json_file(self, json_file_path):\n",
        "        with gzip.open(json_file_path, 'r') as f:\n",
        "            data = f.readline()\n",
        "            while data:\n",
        "                obj = json.loads(data)\n",
        "                if \"area\" in obj:\n",
        "                    self.set_data(obj[\"name\"], obj[\"area\"])\n",
        "                else:\n",
        "                    self.set_data(obj[\"name\"], \"\")\n",
        "                data = f.readline()\n",
        "        print('load done ...!')\n",
        "\n",
        "    def fetch_area_data(self, search_value):\n",
        "        result = self.db.get(search_value)\n",
        "        if not result:\n",
        "            return None\n",
        "        return result.decode()\n",
        "\n",
        "\n",
        "gz_json = \"artist.json.gz\"\n",
        "r = RedisOperator()\n",
        "search_value = input('活動地域を取得したいアーティスト名を入力してください: ')\n",
        "result = r.fetch_area_data(search_value)\n",
        "print(result)"
      ],
      "execution_count": 33,
      "outputs": [
        {
          "output_type": "stream",
          "text": [
            "活動地域を取得したいアーティスト名を入力してください: Shabba Ranks\n",
            "Jamaica\n"
          ],
          "name": "stdout"
        }
      ]
    },
    {
      "cell_type": "markdown",
      "metadata": {
        "id": "lNziqBlMcjWJ",
        "colab_type": "text"
      },
      "source": [
        "## 62. KVS内の反復処理\n",
        "60で構築したデータベースを用い，活動場所が「Japan」となっているアーティスト数を求めよ．"
      ]
    },
    {
      "cell_type": "code",
      "metadata": {
        "id": "srKBaD-ncjMS",
        "colab_type": "code",
        "outputId": "8e379c23-9baf-4ec0-df82-36ca3cb1ab08",
        "colab": {
          "base_uri": "https://localhost:8080/",
          "height": 51
        }
      },
      "source": [
        "\n",
        "import redis\n",
        "\n",
        "import gzip\n",
        "import json\n",
        "\n",
        "\n",
        "class KVS(object):\n",
        "\n",
        "    def __init__(self):\n",
        "        self.db = None\n",
        "\n",
        "class RedisOperator(KVS):\n",
        "\n",
        "    def __init__(self):\n",
        "        self.init_redis()\n",
        "\n",
        "    def init_redis(self):\n",
        "        self.db = redis.StrictRedis(password=\"hoge\")\n",
        "\n",
        "    def set_data(self, key, value):\n",
        "        if type(key) == list:\n",
        "            self.db.rpush(key, value)\n",
        "        else:\n",
        "            self.db.set(key, value)\n",
        "\n",
        "    def load_data_from_gzip_json_file(self, json_file_path):\n",
        "        with gzip.open(json_file_path, 'r') as f:\n",
        "            data = f.readline()\n",
        "            while data:\n",
        "                obj = json.loads(data)\n",
        "                if \"area\" in obj:\n",
        "                    self.set_data(obj[\"name\"], obj[\"area\"])\n",
        "                else:\n",
        "                    self.set_data(obj[\"name\"], \"\")\n",
        "                data = f.readline()\n",
        "        print('load done ...!')\n",
        "\n",
        "    def fetch_area_data(self, search_value):\n",
        "        result = self.db.get(search_value)\n",
        "        if not result:\n",
        "            return None\n",
        "        return result.decode()\n",
        "\n",
        "    def count_area_data(self, area_value):\n",
        "        return self.db.strlen(area_value)\n",
        "\n",
        "\n",
        "gz_json = \"artist.json.gz\"\n",
        "r = RedisOperator()\n",
        "search_value = input('取得したい件数の活動地域名を入力してください: ')\n",
        "result = r.count_area_data(search_value)\n",
        "print(result)"
      ],
      "execution_count": 38,
      "outputs": [
        {
          "output_type": "stream",
          "text": [
            "取得したい件数の活動地域名を入力してください: Japan\n",
            "14\n"
          ],
          "name": "stdout"
        }
      ]
    },
    {
      "cell_type": "markdown",
      "metadata": {
        "id": "Vt0bOvMmd4ea",
        "colab_type": "text"
      },
      "source": [
        "## 63. オブジェクトを値に格納したKVS\n",
        "KVSを用い，アーティスト名（name）からタグと被タグ数（タグ付けされた回数）のリストを検索するためのデータベースを構築せよ．さらに，ここで構築したデータベースを用い，アーティスト名からタグと被タグ数を検索せよ．"
      ]
    },
    {
      "cell_type": "code",
      "metadata": {
        "id": "g2ivF0NMtl_5",
        "colab_type": "code",
        "colab": {
          "base_uri": "https://localhost:8080/",
          "height": 34
        },
        "outputId": "94156310-0bbe-4596-c61f-42359d0198b2"
      },
      "source": [
        "\n",
        "import redis\n",
        "\n",
        "import gzip\n",
        "import json\n",
        "\n",
        "\n",
        "class KVS(object):\n",
        "\n",
        "    def __init__(self):\n",
        "        self.db = None\n",
        "\n",
        "class RedisOperator(KVS):\n",
        "\n",
        "    def __init__(self):\n",
        "        self.init_redis()\n",
        "\n",
        "    def init_redis(self):\n",
        "        self.db = redis.StrictRedis(password=\"hoge\", db=2)\n",
        "\n",
        "    def set_data(self, key, value):\n",
        "        if type(key) == list:\n",
        "            self.db.rpush(key, value)\n",
        "        else:\n",
        "            self.db.set(key, value)\n",
        "\n",
        "    def set_hash_data(self, p_key, c_key, c_value):\n",
        "        self.db.hset(p_key, c_key, c_value)\n",
        "\n",
        "    def load_data_from_gzip_json_file(self, json_file_path):\n",
        "        with gzip.open(json_file_path, 'r') as f:\n",
        "            data = f.readline()\n",
        "            while data:\n",
        "                obj = json.loads(data)\n",
        "                if \"area\" in obj:\n",
        "                    self.set_data(obj[\"name\"], obj[\"area\"])\n",
        "                else:\n",
        "                    self.set_data(obj[\"name\"], \"\")\n",
        "                data = f.readline()\n",
        "        print('load done ...!')\n",
        "\n",
        "    def load_hash_data_from_gzip_json_file(self, json_file_path):\n",
        "        with gzip.open(json_file_path, 'r') as f:\n",
        "            data = f.readline()\n",
        "            while data:\n",
        "                obj = json.loads(data)\n",
        "                if \"tags\" in obj:\n",
        "                    self.set_hash_data(obj[\"name\"], obj[\"id\"], json.dumps(obj[\"tags\"]))\n",
        "                else:\n",
        "                    self.set_hash_data(obj[\"name\"], obj[\"id\"], \"\")\n",
        "                data = f.readline()\n",
        "        print('load done ...!')\n",
        "\n",
        "\n",
        "    def fetch_area_data(self, search_value):\n",
        "        result = self.db.get(search_value)\n",
        "        if not result:\n",
        "            return None\n",
        "        return result.decode()\n",
        "\n",
        "    def count_area_data(self, area_value):\n",
        "        return self.db.strlen(area_value)\n",
        "\n",
        "\n",
        "gz_json = \"artist.json.gz\"\n",
        "r = RedisOperator()\n",
        "#search_value = input('取得したい件数の活動地域名を入力してください: ')\n",
        "r.load_hash_data_from_gzip_json_file(gz_json)\n"
      ],
      "execution_count": 50,
      "outputs": [
        {
          "output_type": "stream",
          "text": [
            "load done ...!\n"
          ],
          "name": "stdout"
        }
      ]
    },
    {
      "cell_type": "code",
      "metadata": {
        "id": "4EXyGyElhZu-",
        "colab_type": "code",
        "colab": {
          "base_uri": "https://localhost:8080/",
          "height": 71
        },
        "outputId": "c93059b8-9c75-43cf-8ac7-eb2accce70d2"
      },
      "source": [
        "\n",
        "import redis\n",
        "\n",
        "import gzip\n",
        "import json\n",
        "\n",
        "\n",
        "class KVS(object):\n",
        "\n",
        "    def __init__(self):\n",
        "        self.db = None\n",
        "\n",
        "class RedisOperator(KVS):\n",
        "\n",
        "    def __init__(self):\n",
        "        self.init_redis()\n",
        "\n",
        "    def init_redis(self):\n",
        "        self.db = redis.StrictRedis(password=\"hoge\", db=2)\n",
        "\n",
        "    def set_data(self, key, value):\n",
        "        if type(key) == list:\n",
        "            self.db.rpush(key, value)\n",
        "        else:\n",
        "            self.db.set(key, value)\n",
        "\n",
        "    def set_hash_data(self, p_key, c_key, c_value):\n",
        "        self.db.hset(p_key, c_key, c_value)\n",
        "\n",
        "    def load_data_from_gzip_json_file(self, json_file_path):\n",
        "        with gzip.open(json_file_path, 'r') as f:\n",
        "            data = f.readline()\n",
        "            while data:\n",
        "                obj = json.loads(data)\n",
        "                if \"area\" in obj:\n",
        "                    self.set_data(obj[\"name\"], obj[\"area\"])\n",
        "                else:\n",
        "                    self.set_data(obj[\"name\"], \"\")\n",
        "                data = f.readline()\n",
        "        print('load done ...!')\n",
        "\n",
        "    def load_hash_data_from_gzip_json_file(self, json_file_path):\n",
        "        with gzip.open(json_file_path, 'r') as f:\n",
        "            data = f.readline()\n",
        "            while data:\n",
        "                obj = json.loads(data)\n",
        "                if \"tags\" in obj:\n",
        "                    self.set_hash_data(obj[\"name\"], obj[\"id\"], json.dumps(obj[\"tags\"]))\n",
        "                else:\n",
        "                    self.set_hash_data(obj[\"name\"], obj[\"id\"], \"\")\n",
        "                data = f.readline()\n",
        "        print('load done ...!')\n",
        "\n",
        "\n",
        "    def fetch_area_data(self, search_value):\n",
        "        result = self.db.get(search_value)\n",
        "        if not result:\n",
        "            return None\n",
        "        return result.decode()\n",
        "\n",
        "    def count_area_data(self, area_value):\n",
        "        return self.db.strlen(area_value)\n",
        "\n",
        "    def fetch_hash_data(self, search_value):\n",
        "        return self.db.hgetall(search_value)\n",
        "\n",
        "gz_json = \"artist.json.gz\"\n",
        "r = RedisOperator()\n",
        "search_value = input('取得したいアーティスト名を入力してください: ')\n",
        "print(r.fetch_hash_data(search_value))\n"
      ],
      "execution_count": 57,
      "outputs": [
        {
          "output_type": "stream",
          "text": [
            "取得したいアーティスト名を入力してください: Shabba Ranks\n",
            "{b'37082': b'[{\"count\": 1, \"value\": \"raggamuffin\"}, {\"count\": 1, \"value\": \"dancehall\"}, {\"count\": 1, \"value\": \"pop\"}, {\"count\": 1, \"value\": \"pop and chart\"}, {\"count\": 1, \"value\": \"drum and bass\"}, {\"count\": 1, \"value\": \"jungle\"}, {\"count\": 1, \"value\": \"mc\"}]'}\n"
          ],
          "name": "stdout"
        }
      ]
    },
    {
      "cell_type": "markdown",
      "metadata": {
        "id": "tbBvS3R63-G9",
        "colab_type": "text"
      },
      "source": [
        "## 64. MongoDBの構築\n",
        "アーティスト情報（artist.json.gz）をデータベースに登録せよ．さらに，次のフィールドでインデックスを作成せよ: name, aliases.name, tags.value, rating.value"
      ]
    },
    {
      "cell_type": "code",
      "metadata": {
        "id": "Wx-tgq0ki9iD",
        "colab_type": "code",
        "colab": {
          "base_uri": "https://localhost:8080/",
          "height": 530
        },
        "outputId": "ec87e26c-04a5-44d3-e699-f67fa41ddfc2"
      },
      "source": [
        "!apt-key adv --keyserver hkp://keyserver.ubuntu.com:80 --recv 9DA31620334BD75D9DCB49F368818C72E52529D4\n",
        "#!echo \"deb [ arch=amd64 ] https://repo.mongodb.org/apt/ubuntu bionic/mongodb-org/4.2 multiverse\" | tee /etc/apt/sources.list.d/mongodb-org-4.2.list\n",
        "!echo \"deb [ arch=amd64 ] https://repo.mongodb.org/apt/ubuntu bionic/mongodb-org/4.0 multiverse\" | sudo tee /etc/apt/sources.list.d/mongodb-org-4.0.list\n",
        "!apt-get update && apt-get install -y mongodb-org"
      ],
      "execution_count": 76,
      "outputs": [
        {
          "output_type": "stream",
          "text": [
            "Executing: /tmp/apt-key-gpghome.hdOuN9E2fn/gpg.1.sh --keyserver hkp://keyserver.ubuntu.com:80 --recv 9DA31620334BD75D9DCB49F368818C72E52529D4\n",
            "gpg: key 68818C72E52529D4: public key \"MongoDB 4.0 Release Signing Key <packaging@mongodb.com>\" imported\n",
            "gpg: Total number processed: 1\n",
            "gpg:               imported: 1\n",
            "deb [ arch=amd64 ] https://repo.mongodb.org/apt/ubuntu bionic/mongodb-org/4.0 multiverse\n",
            "Hit:1 http://security.ubuntu.com/ubuntu bionic-security InRelease\n",
            "Hit:2 http://ppa.launchpad.net/graphics-drivers/ppa/ubuntu bionic InRelease\n",
            "Hit:3 http://archive.ubuntu.com/ubuntu bionic InRelease\n",
            "Hit:4 http://ppa.launchpad.net/marutter/c2d4u3.5/ubuntu bionic InRelease\n",
            "Hit:5 http://archive.ubuntu.com/ubuntu bionic-updates InRelease\n",
            "Ign:6 https://repo.mongodb.org/apt/ubuntu bionic/mongodb-org/4.0 InRelease\n",
            "Ign:7 https://repo.mongodb.org/apt/ubuntu bionic/mongodb-org/4.2 InRelease\n",
            "Hit:8 http://archive.ubuntu.com/ubuntu bionic-backports InRelease\n",
            "Get:9 https://repo.mongodb.org/apt/ubuntu bionic/mongodb-org/4.0 Release [2,991 B]\n",
            "Hit:10 https://repo.mongodb.org/apt/ubuntu bionic/mongodb-org/4.2 Release\n",
            "Ign:11 https://developer.download.nvidia.com/compute/cuda/repos/ubuntu1804/x86_64  InRelease\n",
            "Hit:12 https://cloud.r-project.org/bin/linux/ubuntu bionic-cran35/ InRelease\n",
            "Get:13 https://repo.mongodb.org/apt/ubuntu bionic/mongodb-org/4.0 Release.gpg [801 B]\n",
            "Ign:14 https://developer.download.nvidia.com/compute/machine-learning/repos/ubuntu1804/x86_64  InRelease\n",
            "Hit:15 https://developer.download.nvidia.com/compute/cuda/repos/ubuntu1804/x86_64  Release\n",
            "Hit:16 https://developer.download.nvidia.com/compute/machine-learning/repos/ubuntu1804/x86_64  Release\n",
            "Get:18 https://repo.mongodb.org/apt/ubuntu bionic/mongodb-org/4.0/multiverse amd64 Packages [8,884 B]\n",
            "Fetched 12.7 kB in 2s (6,803 B/s)\n",
            "Reading package lists... Done\n",
            "Reading package lists... Done\n",
            "Building dependency tree       \n",
            "Reading state information... Done\n",
            "mongodb-org is already the newest version (4.2.0).\n",
            "0 upgraded, 0 newly installed, 0 to remove and 146 not upgraded.\n"
          ],
          "name": "stdout"
        }
      ]
    },
    {
      "cell_type": "code",
      "metadata": {
        "id": "LF99LsPfi9Ya",
        "colab_type": "code",
        "colab": {}
      },
      "source": [
        "!ps -e | grep mong"
      ],
      "execution_count": 0,
      "outputs": []
    },
    {
      "cell_type": "code",
      "metadata": {
        "id": "XERU5jRgnRKP",
        "colab_type": "code",
        "colab": {}
      },
      "source": [
        "!mongo"
      ],
      "execution_count": 0,
      "outputs": []
    },
    {
      "cell_type": "code",
      "metadata": {
        "id": "uFpcI593nQqS",
        "colab_type": "code",
        "colab": {}
      },
      "source": [
        "!"
      ],
      "execution_count": 0,
      "outputs": []
    },
    {
      "cell_type": "code",
      "metadata": {
        "id": "vAl9LHtsi9SG",
        "colab_type": "code",
        "colab": {
          "base_uri": "https://localhost:8080/",
          "height": 34
        },
        "outputId": "d400756d-d6c9-4f70-9ad1-9c9fd7d33775"
      },
      "source": [
        "!systemctl enable mongod\n",
        "!systemctl mongod start"
      ],
      "execution_count": 77,
      "outputs": [
        {
          "output_type": "stream",
          "text": [
            "Unknown operation mongod.\n"
          ],
          "name": "stdout"
        }
      ]
    }
  ]
}